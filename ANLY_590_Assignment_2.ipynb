{
  "nbformat": 4,
  "nbformat_minor": 0,
  "metadata": {
    "colab": {
      "name": "ANLY 590 Assignment 2.ipynb",
      "version": "0.3.2",
      "provenance": []
    },
    "kernelspec": {
      "name": "python3",
      "display_name": "Python 3"
    },
    "accelerator": "GPU"
  },
  "cells": [
    {
      "metadata": {
        "id": "Xndun_vmnD6e",
        "colab_type": "code",
        "colab": {}
      },
      "cell_type": "code",
      "source": [
        "from keras.layers import Input, Dense, Conv2D, MaxPooling2D, UpSampling2D\n",
        "from keras.models import Model\n",
        "from keras import backend as K\n",
        "from keras.datasets import fashion_mnist\n",
        "import matplotlib.pyplot as plt\n",
        "import numpy as np\n",
        "import pandas as pd\n",
        "%matplotlib inline"
      ],
      "execution_count": 0,
      "outputs": []
    },
    {
      "metadata": {
        "id": "pgRrleyDnD6m",
        "colab_type": "code",
        "colab": {}
      },
      "cell_type": "code",
      "source": [
        "##load fashion mnist data\n",
        "(x_train, y_train), (x_test, y_test) = fashion_mnist.load_data()\n",
        "x_train = x_train.astype('float32') / 255.\n",
        "x_test = x_test.astype('float32') / 255.\n",
        "x_train = np.reshape(x_train, (len(x_train), 28, 28, 1))  # adapt this if using `channels_first` image data format\n",
        "x_test = np.reshape(x_test, (len(x_test), 28, 28, 1))  # adapt this if using `channels_first` image data format"
      ],
      "execution_count": 0,
      "outputs": []
    },
    {
      "metadata": {
        "id": "GsdcKBjGnD6r",
        "colab_type": "code",
        "colab": {}
      },
      "cell_type": "code",
      "source": [
        "input_img = Input(shape=(28, 28, 1))  # adapt this if using `channels_first` image data format\n",
        "\n",
        "x = Conv2D(16, (3, 3), activation='relu', padding='same')(input_img)\n",
        "x = MaxPooling2D((2, 2), padding='same')(x)\n",
        "x = Conv2D(8, (3, 3), activation='relu', padding='same')(x)\n",
        "x = MaxPooling2D((2, 2), padding='same')(x)\n",
        "x = Conv2D(8, (3, 3), activation='relu', padding='same')(x)\n",
        "encoded = MaxPooling2D((2, 2), padding='same')(x)\n",
        "\n",
        "#at this point the representation is (4, 4, 8) i.e. 128-dimensional\n",
        "\n",
        "x = Conv2D(8, (3, 3), activation='relu', padding='same')(encoded)\n",
        "x = UpSampling2D((2, 2))(x)\n",
        "x = Conv2D(8, (3, 3), activation='relu', padding='same')(x)\n",
        "x = UpSampling2D((2, 2))(x)\n",
        "x = Conv2D(16, (3, 3), activation='relu')(x)\n",
        "x = UpSampling2D((2, 2))(x)\n",
        "decoded = Conv2D(1, (3, 3), activation='sigmoid', padding='same')(x)\n",
        "\n",
        "autoencoder = Model(input_img, decoded)\n",
        "autoencoder.compile(optimizer='adadelta', loss='binary_crossentropy')"
      ],
      "execution_count": 0,
      "outputs": []
    },
    {
      "metadata": {
        "id": "13aU8Q5KnD6u",
        "colab_type": "code",
        "colab": {
          "base_uri": "https://localhost:8080/",
          "height": 391
        },
        "outputId": "c600c792-d7e6-4278-cfb6-b105aa6a0032"
      },
      "cell_type": "code",
      "source": [
        "autoencoder.fit(x_train, x_train,\n",
        "                epochs=10,\n",
        "                batch_size=128,\n",
        "                shuffle=True,\n",
        "                validation_data=(x_test, x_test))"
      ],
      "execution_count": 38,
      "outputs": [
        {
          "output_type": "stream",
          "text": [
            "Train on 60000 samples, validate on 10000 samples\n",
            "Epoch 1/10\n",
            "60000/60000 [==============================] - 9s 145us/step - loss: 0.3688 - val_loss: 0.3302\n",
            "Epoch 2/10\n",
            "60000/60000 [==============================] - 8s 128us/step - loss: 0.3209 - val_loss: 0.3190\n",
            "Epoch 3/10\n",
            "60000/60000 [==============================] - 8s 126us/step - loss: 0.3115 - val_loss: 0.3088\n",
            "Epoch 4/10\n",
            "60000/60000 [==============================] - 8s 129us/step - loss: 0.3064 - val_loss: 0.3106\n",
            "Epoch 5/10\n",
            "60000/60000 [==============================] - 8s 126us/step - loss: 0.3034 - val_loss: 0.2999\n",
            "Epoch 6/10\n",
            "60000/60000 [==============================] - 8s 130us/step - loss: 0.3012 - val_loss: 0.3008\n",
            "Epoch 7/10\n",
            "60000/60000 [==============================] - 8s 132us/step - loss: 0.2992 - val_loss: 0.3042\n",
            "Epoch 8/10\n",
            "60000/60000 [==============================] - 8s 132us/step - loss: 0.2976 - val_loss: 0.3007\n",
            "Epoch 9/10\n",
            "60000/60000 [==============================] - 8s 133us/step - loss: 0.2963 - val_loss: 0.3014\n",
            "Epoch 10/10\n",
            "60000/60000 [==============================] - 8s 128us/step - loss: 0.2951 - val_loss: 0.2993\n"
          ],
          "name": "stdout"
        },
        {
          "output_type": "execute_result",
          "data": {
            "text/plain": [
              "<keras.callbacks.History at 0x7f1fbad074e0>"
            ]
          },
          "metadata": {
            "tags": []
          },
          "execution_count": 38
        }
      ]
    },
    {
      "metadata": {
        "id": "HXlhc2l2nD60",
        "colab_type": "code",
        "colab": {
          "base_uri": "https://localhost:8080/",
          "height": 264
        },
        "outputId": "677f80ac-a0e4-4361-cb65-3a1a5f4e3167"
      },
      "cell_type": "code",
      "source": [
        "autoencoder.save('Antoencoder.h5')\n",
        "decoded_imgs = autoencoder.predict(x_test)\n",
        "\n",
        "n = 10\n",
        "plt.figure(figsize=(20, 4))\n",
        "for i in range(n):\n",
        "    # display original\n",
        "    ax = plt.subplot(2, n, i + 1)\n",
        "    plt.imshow(x_test[i].reshape(28, 28))\n",
        "    plt.gray()\n",
        "    ax.get_xaxis().set_visible(False)\n",
        "    ax.get_yaxis().set_visible(False)\n",
        "\n",
        "    # display reconstruction\n",
        "    ax = plt.subplot(2, n, i + n + 1)\n",
        "    plt.imshow(decoded_imgs[i].reshape(28, 28))\n",
        "    plt.gray()\n",
        "    ax.get_xaxis().set_visible(False)\n",
        "    ax.get_yaxis().set_visible(False)\n",
        "plt.show()"
      ],
      "execution_count": 39,
      "outputs": [
        {
          "output_type": "display_data",
          "data": {
            "image/png": "[encoded data removed]",
            "text/plain": [
              "<matplotlib.figure.Figure at 0x7f1fb82e9a20>"
            ]
          },
          "metadata": {
            "tags": []
          }
        }
      ]
    },
    {
      "metadata": {
        "id": "t1UhNm3PnD67",
        "colab_type": "text"
      },
      "cell_type": "markdown",
      "source": [
        "cnn"
      ]
    },
    {
      "metadata": {
        "id": "u_iYIziZnD68",
        "colab_type": "code",
        "colab": {
          "base_uri": "https://localhost:8080/",
          "height": 68
        },
        "outputId": "98815a25-3086-48ff-b218-f845600cf01c"
      },
      "cell_type": "code",
      "source": [
        "from keras.utils import np_utils\n",
        "\n",
        "#Processing class labels they are currently a numeric vector\n",
        "#transform them into categories\n",
        "print(y_train.shape)\n",
        "print(y_train[:10])\n",
        "#Convert 1-dimensional class arrays to 10-dimensional class matrices\n",
        "Y_train = np_utils.to_categorical(y_train, 10)\n",
        "Y_test = np_utils.to_categorical(y_test, 10)\n",
        "#Check the shape\n",
        "print(Y_train.shape)\n"
      ],
      "execution_count": 40,
      "outputs": [
        {
          "output_type": "stream",
          "text": [
            "(60000,)\n",
            "[9 0 0 3 0 2 7 2 5 5]\n",
            "(60000, 10)\n"
          ],
          "name": "stdout"
        }
      ]
    },
    {
      "metadata": {
        "id": "nV21e9xTnD7B",
        "colab_type": "code",
        "colab": {
          "base_uri": "https://localhost:8080/",
          "height": 408
        },
        "outputId": "b71511ff-6079-4d26-fec2-82b6dd1ec9e0"
      },
      "cell_type": "code",
      "source": [
        "from keras.models import Sequential\n",
        "from keras.layers import Dropout, Flatten\n",
        "\n",
        "model = Sequential()\n",
        "#CNN input layer: input_shape: (depth,width,height)\n",
        "#CNN convolution: number of filters, height and width of kernel\n",
        "model.add(Conv2D(filters = 32,kernel_size=(3, 3), \n",
        "                 activation='relu', strides=(1, 1), \n",
        "                 padding='valid',\n",
        "                 input_shape=(28,28,1)))\n",
        "print(model.output_shape)\n",
        "\n",
        "#Next we add the remaining layers with 2 by 2 Maxpooling layer and 0.2 Dropout rate\n",
        "model.add(Conv2D(filters = 32,kernel_size=(3, 3), \n",
        "                 activation='relu', strides=(1, 1), \n",
        "                 padding='valid'))\n",
        "\n",
        "model.add(Dropout(0.2))\n",
        "\n",
        "#Setting up the fully connected layer with 64 Dense nodes, and 0.2 Dropout rate\n",
        "model.add(Flatten())\n",
        "model.add(Dense(64, activation='relu'))\n",
        "model.add(Dropout(0.2))\n",
        "\n",
        "#Class layer\n",
        "model.add(Dense(10, activation='softmax'))\n",
        "print(model.summary())"
      ],
      "execution_count": 41,
      "outputs": [
        {
          "output_type": "stream",
          "text": [
            "(None, 26, 26, 32)\n",
            "_________________________________________________________________\n",
            "Layer (type)                 Output Shape              Param #   \n",
            "=================================================================\n",
            "conv2d_22 (Conv2D)           (None, 26, 26, 32)        320       \n",
            "_________________________________________________________________\n",
            "conv2d_23 (Conv2D)           (None, 24, 24, 32)        9248      \n",
            "_________________________________________________________________\n",
            "dropout_3 (Dropout)          (None, 24, 24, 32)        0         \n",
            "_________________________________________________________________\n",
            "flatten_3 (Flatten)          (None, 18432)             0         \n",
            "_________________________________________________________________\n",
            "dense_9 (Dense)              (None, 64)                1179712   \n",
            "_________________________________________________________________\n",
            "dropout_4 (Dropout)          (None, 64)                0         \n",
            "_________________________________________________________________\n",
            "dense_10 (Dense)             (None, 10)                650       \n",
            "=================================================================\n",
            "Total params: 1,189,930\n",
            "Trainable params: 1,189,930\n",
            "Non-trainable params: 0\n",
            "_________________________________________________________________\n",
            "None\n"
          ],
          "name": "stdout"
        }
      ]
    },
    {
      "metadata": {
        "id": "CtPgq035nD7I",
        "colab_type": "code",
        "colab": {
          "base_uri": "https://localhost:8080/",
          "height": 374
        },
        "outputId": "a0c467a0-defe-4607-f623-b29a0a4b3e4d"
      },
      "cell_type": "code",
      "source": [
        "# Compile the model\n",
        "model.compile(loss='categorical_crossentropy',\n",
        "              optimizer='adam',\n",
        "              metrics=['accuracy'])\n",
        "\n",
        "#Fit the model\n",
        "model.fit(x_train, Y_train,\n",
        "          epochs=10,\n",
        "          batch_size=128,\n",
        "          verbose = 1)\n",
        "\n",
        "#Evaluate the model\n",
        "score = model.evaluate(x_test, Y_test, verbose=1)"
      ],
      "execution_count": 42,
      "outputs": [
        {
          "output_type": "stream",
          "text": [
            "Epoch 1/10\n",
            "60000/60000 [==============================] - 8s 141us/step - loss: 0.4761 - acc: 0.8332\n",
            "Epoch 2/10\n",
            "60000/60000 [==============================] - 8s 129us/step - loss: 0.3065 - acc: 0.8899\n",
            "Epoch 3/10\n",
            "60000/60000 [==============================] - 8s 128us/step - loss: 0.2546 - acc: 0.9059\n",
            "Epoch 4/10\n",
            "60000/60000 [==============================] - 8s 127us/step - loss: 0.2231 - acc: 0.9179\n",
            "Epoch 5/10\n",
            "60000/60000 [==============================] - 8s 130us/step - loss: 0.1934 - acc: 0.9281\n",
            "Epoch 6/10\n",
            "60000/60000 [==============================] - 8s 128us/step - loss: 0.1677 - acc: 0.9367\n",
            "Epoch 7/10\n",
            "60000/60000 [==============================] - 8s 127us/step - loss: 0.1492 - acc: 0.9448\n",
            "Epoch 8/10\n",
            "60000/60000 [==============================] - 8s 130us/step - loss: 0.1311 - acc: 0.9506\n",
            "Epoch 9/10\n",
            "60000/60000 [==============================] - 8s 127us/step - loss: 0.1171 - acc: 0.9562\n",
            "Epoch 10/10\n",
            "60000/60000 [==============================] - 8s 128us/step - loss: 0.1064 - acc: 0.9597\n",
            "10000/10000 [==============================] - 1s 121us/step\n"
          ],
          "name": "stdout"
        }
      ]
    },
    {
      "metadata": {
        "id": "iQSQlRYpnD7L",
        "colab_type": "code",
        "colab": {
          "base_uri": "https://localhost:8080/",
          "height": 51
        },
        "outputId": "46c3cb1f-c4f9-4ce1-f9df-20a5f6fdb8b7"
      },
      "cell_type": "code",
      "source": [
        "print('Test loss:', score[0])\n",
        "print('Test accuracy:', score[1])"
      ],
      "execution_count": 43,
      "outputs": [
        {
          "output_type": "stream",
          "text": [
            "Test loss: 0.27056675517559053\n",
            "Test accuracy: 0.9166\n"
          ],
          "name": "stdout"
        }
      ]
    },
    {
      "metadata": {
        "id": "vBVip136nD7O",
        "colab_type": "code",
        "colab": {
          "base_uri": "https://localhost:8080/",
          "height": 407
        },
        "outputId": "fa1a56f7-1a13-4379-b1ef-9d1c9d367296"
      },
      "cell_type": "code",
      "source": [
        "\n",
        "predicted_values = model.predict_classes(x_test[0:2**9], batch_size=32, verbose=1)\n",
        "pd.crosstab(predicted_values, y_test[0:2**9],\n",
        "            rownames=['Predicted Value'], colnames= ['True Value'])"
      ],
      "execution_count": 44,
      "outputs": [
        {
          "output_type": "stream",
          "text": [
            "512/512 [==============================] - 0s 753us/step\n"
          ],
          "name": "stdout"
        },
        {
          "output_type": "execute_result",
          "data": {
            "text/html": [
              "<div>\n",
              "<style scoped>\n",
              "    .dataframe tbody tr th:only-of-type {\n",
              "        vertical-align: middle;\n",
              "    }\n",
              "\n",
              "    .dataframe tbody tr th {\n",
              "        vertical-align: top;\n",
              "    }\n",
              "\n",
              "    .dataframe thead th {\n",
              "        text-align: right;\n",
              "    }\n",
              "</style>\n",
              "<table border=\"1\" class=\"dataframe\">\n",
              "  <thead>\n",
              "    <tr style=\"text-align: right;\">\n",
              "      <th>True Value</th>\n",
              "      <th>0</th>\n",
              "      <th>1</th>\n",
              "      <th>2</th>\n",
              "      <th>3</th>\n",
              "      <th>4</th>\n",
              "      <th>5</th>\n",
              "      <th>6</th>\n",
              "      <th>7</th>\n",
              "      <th>8</th>\n",
              "      <th>9</th>\n",
              "    </tr>\n",
              "    <tr>\n",
              "      <th>Predicted Value</th>\n",
              "      <th></th>\n",
              "      <th></th>\n",
              "      <th></th>\n",
              "      <th></th>\n",
              "      <th></th>\n",
              "      <th></th>\n",
              "      <th></th>\n",
              "      <th></th>\n",
              "      <th></th>\n",
              "      <th></th>\n",
              "    </tr>\n",
              "  </thead>\n",
              "  <tbody>\n",
              "    <tr>\n",
              "      <th>0</th>\n",
              "      <td>48</td>\n",
              "      <td>0</td>\n",
              "      <td>2</td>\n",
              "      <td>0</td>\n",
              "      <td>0</td>\n",
              "      <td>0</td>\n",
              "      <td>1</td>\n",
              "      <td>0</td>\n",
              "      <td>0</td>\n",
              "      <td>0</td>\n",
              "    </tr>\n",
              "    <tr>\n",
              "      <th>1</th>\n",
              "      <td>0</td>\n",
              "      <td>53</td>\n",
              "      <td>0</td>\n",
              "      <td>1</td>\n",
              "      <td>0</td>\n",
              "      <td>0</td>\n",
              "      <td>0</td>\n",
              "      <td>0</td>\n",
              "      <td>0</td>\n",
              "      <td>0</td>\n",
              "    </tr>\n",
              "    <tr>\n",
              "      <th>2</th>\n",
              "      <td>2</td>\n",
              "      <td>0</td>\n",
              "      <td>60</td>\n",
              "      <td>0</td>\n",
              "      <td>2</td>\n",
              "      <td>0</td>\n",
              "      <td>3</td>\n",
              "      <td>0</td>\n",
              "      <td>0</td>\n",
              "      <td>0</td>\n",
              "    </tr>\n",
              "    <tr>\n",
              "      <th>3</th>\n",
              "      <td>0</td>\n",
              "      <td>0</td>\n",
              "      <td>0</td>\n",
              "      <td>40</td>\n",
              "      <td>4</td>\n",
              "      <td>0</td>\n",
              "      <td>1</td>\n",
              "      <td>0</td>\n",
              "      <td>0</td>\n",
              "      <td>0</td>\n",
              "    </tr>\n",
              "    <tr>\n",
              "      <th>4</th>\n",
              "      <td>0</td>\n",
              "      <td>0</td>\n",
              "      <td>3</td>\n",
              "      <td>3</td>\n",
              "      <td>51</td>\n",
              "      <td>0</td>\n",
              "      <td>4</td>\n",
              "      <td>0</td>\n",
              "      <td>0</td>\n",
              "      <td>0</td>\n",
              "    </tr>\n",
              "    <tr>\n",
              "      <th>5</th>\n",
              "      <td>0</td>\n",
              "      <td>0</td>\n",
              "      <td>0</td>\n",
              "      <td>0</td>\n",
              "      <td>0</td>\n",
              "      <td>40</td>\n",
              "      <td>0</td>\n",
              "      <td>1</td>\n",
              "      <td>0</td>\n",
              "      <td>1</td>\n",
              "    </tr>\n",
              "    <tr>\n",
              "      <th>6</th>\n",
              "      <td>6</td>\n",
              "      <td>0</td>\n",
              "      <td>6</td>\n",
              "      <td>2</td>\n",
              "      <td>1</td>\n",
              "      <td>0</td>\n",
              "      <td>38</td>\n",
              "      <td>0</td>\n",
              "      <td>1</td>\n",
              "      <td>0</td>\n",
              "    </tr>\n",
              "    <tr>\n",
              "      <th>7</th>\n",
              "      <td>0</td>\n",
              "      <td>0</td>\n",
              "      <td>0</td>\n",
              "      <td>0</td>\n",
              "      <td>0</td>\n",
              "      <td>0</td>\n",
              "      <td>0</td>\n",
              "      <td>45</td>\n",
              "      <td>0</td>\n",
              "      <td>3</td>\n",
              "    </tr>\n",
              "    <tr>\n",
              "      <th>8</th>\n",
              "      <td>0</td>\n",
              "      <td>0</td>\n",
              "      <td>0</td>\n",
              "      <td>0</td>\n",
              "      <td>0</td>\n",
              "      <td>0</td>\n",
              "      <td>0</td>\n",
              "      <td>0</td>\n",
              "      <td>44</td>\n",
              "      <td>0</td>\n",
              "    </tr>\n",
              "    <tr>\n",
              "      <th>9</th>\n",
              "      <td>0</td>\n",
              "      <td>0</td>\n",
              "      <td>0</td>\n",
              "      <td>0</td>\n",
              "      <td>0</td>\n",
              "      <td>0</td>\n",
              "      <td>0</td>\n",
              "      <td>2</td>\n",
              "      <td>0</td>\n",
              "      <td>44</td>\n",
              "    </tr>\n",
              "  </tbody>\n",
              "</table>\n",
              "</div>"
            ],
            "text/plain": [
              "True Value        0   1   2   3   4   5   6   7   8   9\n",
              "Predicted Value                                        \n",
              "0                48   0   2   0   0   0   1   0   0   0\n",
              "1                 0  53   0   1   0   0   0   0   0   0\n",
              "2                 2   0  60   0   2   0   3   0   0   0\n",
              "3                 0   0   0  40   4   0   1   0   0   0\n",
              "4                 0   0   3   3  51   0   4   0   0   0\n",
              "5                 0   0   0   0   0  40   0   1   0   1\n",
              "6                 6   0   6   2   1   0  38   0   1   0\n",
              "7                 0   0   0   0   0   0   0  45   0   3\n",
              "8                 0   0   0   0   0   0   0   0  44   0\n",
              "9                 0   0   0   0   0   0   0   2   0  44"
            ]
          },
          "metadata": {
            "tags": []
          },
          "execution_count": 44
        }
      ]
    },
    {
      "metadata": {
        "id": "N2Acj53ynD7S",
        "colab_type": "code",
        "colab": {}
      },
      "cell_type": "code",
      "source": [
        "#transfer learning\n",
        "from keras.applications import VGG16\n",
        "import matplotlib.pyplot as plt\n",
        "from keras.preprocessing.image import ImageDataGenerator, array_to_img, img_to_array, load_img\n",
        "from keras.datasets import fashion_mnist\n",
        "from keras.utils import np_utils\n",
        "from keras.models import Sequential\n",
        "from keras.layers import Dense, Dropout, Flatten"
      ],
      "execution_count": 0,
      "outputs": []
    },
    {
      "metadata": {
        "id": "paPerxHbnD7T",
        "colab_type": "code",
        "colab": {
          "base_uri": "https://localhost:8080/",
          "height": 294
        },
        "outputId": "ad0ca550-777d-46bd-c633-93e534ba9c7f"
      },
      "cell_type": "code",
      "source": [
        "#minimum input size\n",
        "conv_base = VGG16(weights=\"imagenet\",include_top=False,input_shape=(48,48,3))"
      ],
      "execution_count": 5,
      "outputs": [
        {
          "output_type": "stream",
          "text": [
            "Downloading data from https://github.com/fchollet/deep-learning-models/releases/download/v0.1/vgg16_weights_tf_dim_ordering_tf_kernels_notop.h5\n",
            "58892288/58889256 [==============================] - 1s 0us/step\n"
          ],
          "name": "stdout"
        }
      ]
    },
    {
      "metadata": {
        "id": "-WZojIfOnD7W",
        "colab_type": "code",
        "colab": {
          "base_uri": "https://localhost:8080/",
          "height": 374
        },
        "outputId": "70f87d63-eb2b-4ad2-ca78-521677515cc2"
      },
      "cell_type": "code",
      "source": [
        "add_model = Sequential()\n",
        "add_model.add(conv_base)\n",
        "add_model.add(Flatten())\n",
        "add_model.add(Dense(256, activation=\"relu\"))\n",
        "add_model.add(Dropout(0.25))\n",
        "add_model.add(Dense(128, activation=\"relu\"))\n",
        "add_model.add(Dropout(0.25))\n",
        "add_model.add(Dense(10, activation='softmax'))\n",
        "conv_base.trainable = False\n",
        "add_model.trainable_weights\n",
        "add_model.compile(loss='categorical_crossentropy', optimizer='adam', metrics=[\"acc\"])\n",
        "add_model.summary()"
      ],
      "execution_count": 47,
      "outputs": [
        {
          "output_type": "stream",
          "text": [
            "_________________________________________________________________\n",
            "Layer (type)                 Output Shape              Param #   \n",
            "=================================================================\n",
            "vgg16 (Model)                (None, 1, 1, 512)         14714688  \n",
            "_________________________________________________________________\n",
            "flatten_4 (Flatten)          (None, 512)               0         \n",
            "_________________________________________________________________\n",
            "dense_11 (Dense)             (None, 256)               131328    \n",
            "_________________________________________________________________\n",
            "dropout_5 (Dropout)          (None, 256)               0         \n",
            "_________________________________________________________________\n",
            "dense_12 (Dense)             (None, 128)               32896     \n",
            "_________________________________________________________________\n",
            "dropout_6 (Dropout)          (None, 128)               0         \n",
            "_________________________________________________________________\n",
            "dense_13 (Dense)             (None, 10)                1290      \n",
            "=================================================================\n",
            "Total params: 14,880,202\n",
            "Trainable params: 165,514\n",
            "Non-trainable params: 14,714,688\n",
            "_________________________________________________________________\n"
          ],
          "name": "stdout"
        }
      ]
    },
    {
      "metadata": {
        "id": "_vvrZweQnD7Y",
        "colab_type": "code",
        "colab": {
          "base_uri": "https://localhost:8080/",
          "height": 34
        },
        "outputId": "189980f3-8a73-4dbe-bec9-87bc8f13b281"
      },
      "cell_type": "code",
      "source": [
        "#duplicate images in 3 channels\n",
        "(x_train, y_train), (x_test, y_test) = fashion_mnist.load_data()\n",
        "\n",
        "Y_train = np_utils.to_categorical(y_train, 10)\n",
        "Y_test = np_utils.to_categorical(y_test, 10)\n",
        "\n",
        "x_train = np.dstack([x_train] * 3)\n",
        "x_test = np.dstack([x_test] * 3)\n",
        "\n",
        "x_train = x_train.reshape(-1, 28, 28, 3)\n",
        "x_test = x_test.reshape (-1, 28, 28, 3)\n",
        "x_train = np.asarray([img_to_array(array_to_img(im, scale=False).resize((48,48))) for im in x_train])/255.\n",
        "x_test = np.asarray([img_to_array(array_to_img(im, scale=False).resize((48,48))) for im in x_test])/255.\n",
        "\n",
        "x_train.shape, x_test.shape"
      ],
      "execution_count": 9,
      "outputs": [
        {
          "output_type": "execute_result",
          "data": {
            "text/plain": [
              "((60000, 48, 48, 3), (10000, 48, 48, 3))"
            ]
          },
          "metadata": {
            "tags": []
          },
          "execution_count": 9
        }
      ]
    },
    {
      "metadata": {
        "id": "fPePjjAunD7c",
        "colab_type": "code",
        "colab": {
          "base_uri": "https://localhost:8080/",
          "height": 374
        },
        "outputId": "ddc12fa1-8143-4308-b962-7fbb066825c0"
      },
      "cell_type": "code",
      "source": [
        "add_model.fit(x_train, Y_train,\n",
        "          epochs=10,\n",
        "          batch_size=128,\n",
        "          verbose = 1)"
      ],
      "execution_count": 10,
      "outputs": [
        {
          "output_type": "stream",
          "text": [
            "Epoch 1/10\n",
            "60000/60000 [==============================] - 40s 673us/step - loss: 0.7198 - acc: 0.7434\n",
            "Epoch 2/10\n",
            "60000/60000 [==============================] - 36s 601us/step - loss: 0.5066 - acc: 0.8171\n",
            "Epoch 3/10\n",
            "60000/60000 [==============================] - 36s 601us/step - loss: 0.4657 - acc: 0.8315\n",
            "Epoch 4/10\n",
            "60000/60000 [==============================] - 36s 598us/step - loss: 0.4421 - acc: 0.8397\n",
            "Epoch 5/10\n",
            "60000/60000 [==============================] - 36s 592us/step - loss: 0.4225 - acc: 0.8447\n",
            "Epoch 6/10\n",
            "60000/60000 [==============================] - 35s 592us/step - loss: 0.4094 - acc: 0.8503\n",
            "Epoch 7/10\n",
            "60000/60000 [==============================] - 35s 590us/step - loss: 0.3954 - acc: 0.8539\n",
            "Epoch 8/10\n",
            "60000/60000 [==============================] - 35s 591us/step - loss: 0.3870 - acc: 0.8574\n",
            "Epoch 9/10\n",
            "60000/60000 [==============================] - 36s 592us/step - loss: 0.3781 - acc: 0.8610\n",
            "Epoch 10/10\n",
            "60000/60000 [==============================] - 35s 589us/step - loss: 0.3690 - acc: 0.8643\n"
          ],
          "name": "stdout"
        },
        {
          "output_type": "execute_result",
          "data": {
            "text/plain": [
              "<keras.callbacks.History at 0x7f1fbe35ba58>"
            ]
          },
          "metadata": {
            "tags": []
          },
          "execution_count": 10
        }
      ]
    },
    {
      "metadata": {
        "id": "BVw0fWCgnD7e",
        "colab_type": "code",
        "colab": {
          "base_uri": "https://localhost:8080/",
          "height": 68
        },
        "outputId": "7a0b6e40-3971-46b4-c7ef-fe8642ab4a85"
      },
      "cell_type": "code",
      "source": [
        "#Evaluating the model\n",
        "score = add_model.evaluate(x_test, Y_test, verbose=1)\n",
        "print('Test loss:', score[0])\n",
        "print('Test accuracy:', score[1])"
      ],
      "execution_count": 11,
      "outputs": [
        {
          "output_type": "stream",
          "text": [
            "10000/10000 [==============================] - 9s 907us/step\n",
            "Test loss: 0.41426338639259336\n",
            "Test accuracy: 0.8531\n"
          ],
          "name": "stdout"
        }
      ]
    },
    {
      "metadata": {
        "id": "Fp1ZYEkMnD7h",
        "colab_type": "text"
      },
      "cell_type": "markdown",
      "source": [
        "text classification"
      ]
    },
    {
      "metadata": {
        "id": "AW8lKz1bnD7h",
        "colab_type": "code",
        "colab": {
          "base_uri": "https://localhost:8080/",
          "height": 221
        },
        "outputId": "2cc60ea9-5d42-49b5-ed0b-4eb08ad07a84"
      },
      "cell_type": "code",
      "source": [
        "df_benigh = pd.read_csv('https://s3.amazonaws.com/anly-590/url-classification/benign-urls.txt')\n",
        "df_malicious = pd.read_csv('https://s3.amazonaws.com/anly-590/url-classification/malicious-urls.txt', header = None)\n",
        "df_benigh.columns = ['urls']\n",
        "print(df_benigh.shape)\n",
        "df_benigh.head()"
      ],
      "execution_count": 16,
      "outputs": [
        {
          "output_type": "stream",
          "text": [
            "(66056, 1)\n"
          ],
          "name": "stdout"
        },
        {
          "output_type": "execute_result",
          "data": {
            "text/html": [
              "<div>\n",
              "<style scoped>\n",
              "    .dataframe tbody tr th:only-of-type {\n",
              "        vertical-align: middle;\n",
              "    }\n",
              "\n",
              "    .dataframe tbody tr th {\n",
              "        vertical-align: top;\n",
              "    }\n",
              "\n",
              "    .dataframe thead th {\n",
              "        text-align: right;\n",
              "    }\n",
              "</style>\n",
              "<table border=\"1\" class=\"dataframe\">\n",
              "  <thead>\n",
              "    <tr style=\"text-align: right;\">\n",
              "      <th></th>\n",
              "      <th>urls</th>\n",
              "    </tr>\n",
              "  </thead>\n",
              "  <tbody>\n",
              "    <tr>\n",
              "      <th>0</th>\n",
              "      <td>.0.blogger.gmodules.com</td>\n",
              "    </tr>\n",
              "    <tr>\n",
              "      <th>1</th>\n",
              "      <td>.0.client-channel.google.com</td>\n",
              "    </tr>\n",
              "    <tr>\n",
              "      <th>2</th>\n",
              "      <td>.0.docs.google.com</td>\n",
              "    </tr>\n",
              "    <tr>\n",
              "      <th>3</th>\n",
              "      <td>.0.drive.google.com</td>\n",
              "    </tr>\n",
              "    <tr>\n",
              "      <th>4</th>\n",
              "      <td>.0.gvt0.cn</td>\n",
              "    </tr>\n",
              "  </tbody>\n",
              "</table>\n",
              "</div>"
            ],
            "text/plain": [
              "                           urls\n",
              "0       .0.blogger.gmodules.com\n",
              "1  .0.client-channel.google.com\n",
              "2            .0.docs.google.com\n",
              "3           .0.drive.google.com\n",
              "4                    .0.gvt0.cn"
            ]
          },
          "metadata": {
            "tags": []
          },
          "execution_count": 16
        }
      ]
    },
    {
      "metadata": {
        "id": "KynYYgRunD7k",
        "colab_type": "code",
        "colab": {
          "base_uri": "https://localhost:8080/",
          "height": 221
        },
        "outputId": "290f6a0e-9ffe-4d31-97f4-e96c5a594131"
      },
      "cell_type": "code",
      "source": [
        "df_malicious.columns = ['urls']\n",
        "print(df_malicious.shape)\n",
        "df_malicious.head()"
      ],
      "execution_count": 18,
      "outputs": [
        {
          "output_type": "stream",
          "text": [
            "(1296, 1)\n"
          ],
          "name": "stdout"
        },
        {
          "output_type": "execute_result",
          "data": {
            "text/html": [
              "<div>\n",
              "<style scoped>\n",
              "    .dataframe tbody tr th:only-of-type {\n",
              "        vertical-align: middle;\n",
              "    }\n",
              "\n",
              "    .dataframe tbody tr th {\n",
              "        vertical-align: top;\n",
              "    }\n",
              "\n",
              "    .dataframe thead th {\n",
              "        text-align: right;\n",
              "    }\n",
              "</style>\n",
              "<table border=\"1\" class=\"dataframe\">\n",
              "  <thead>\n",
              "    <tr style=\"text-align: right;\">\n",
              "      <th></th>\n",
              "      <th>urls</th>\n",
              "    </tr>\n",
              "  </thead>\n",
              "  <tbody>\n",
              "    <tr>\n",
              "      <th>0</th>\n",
              "      <td>.1337x.pl</td>\n",
              "    </tr>\n",
              "    <tr>\n",
              "      <th>1</th>\n",
              "      <td>.1link.io</td>\n",
              "    </tr>\n",
              "    <tr>\n",
              "      <th>2</th>\n",
              "      <td>.1n.pm</td>\n",
              "    </tr>\n",
              "    <tr>\n",
              "      <th>3</th>\n",
              "      <td>.22apple.com</td>\n",
              "    </tr>\n",
              "    <tr>\n",
              "      <th>4</th>\n",
              "      <td>.22find.com</td>\n",
              "    </tr>\n",
              "  </tbody>\n",
              "</table>\n",
              "</div>"
            ],
            "text/plain": [
              "           urls\n",
              "0     .1337x.pl\n",
              "1     .1link.io\n",
              "2        .1n.pm\n",
              "3  .22apple.com\n",
              "4   .22find.com"
            ]
          },
          "metadata": {
            "tags": []
          },
          "execution_count": 18
        }
      ]
    },
    {
      "metadata": {
        "id": "g5xmfwnCnD7l",
        "colab_type": "text"
      },
      "cell_type": "markdown",
      "source": [
        "rnn"
      ]
    },
    {
      "metadata": {
        "id": "L1cJd-tLnD7m",
        "colab_type": "text"
      },
      "cell_type": "markdown",
      "source": [
        ""
      ]
    },
    {
      "metadata": {
        "id": "CZIEvZ3QnD7m",
        "colab_type": "code",
        "colab": {
          "base_uri": "https://localhost:8080/",
          "height": 34
        },
        "outputId": "abe7d084-6bf4-4b0a-d6bc-d266e716b2ef"
      },
      "cell_type": "code",
      "source": [
        "from sklearn.model_selection import train_test_split\n",
        "from keras.preprocessing import sequence\n",
        "from keras.preprocessing.text import Tokenizer\n",
        "from keras.layers import SimpleRNN, Embedding\n",
        "df_benigh['class'] = 1\n",
        "df_malicious['class'] = 0\n",
        "np.random.seed(0)\n",
        "\n",
        "# Downsizing the major class samples due to the extreme imbalance of the dataset\n",
        "x_1 = df_benigh.sample(frac=5*df_malicious.shape[0]/df_benigh.shape[0]) #5:1\n",
        "x_1.shape"
      ],
      "execution_count": 19,
      "outputs": [
        {
          "output_type": "execute_result",
          "data": {
            "text/plain": [
              "(6480, 2)"
            ]
          },
          "metadata": {
            "tags": []
          },
          "execution_count": 19
        }
      ]
    },
    {
      "metadata": {
        "id": "4tu9fTU2nD7o",
        "colab_type": "code",
        "colab": {}
      },
      "cell_type": "code",
      "source": [
        "df = pd.concat([x_1, df_malicious], ignore_index = True).reset_index()\n",
        "tokenizer = Tokenizer(filters=None, char_level=True)\n",
        "tokenizer.fit_on_texts(df['urls'])\n",
        "\n",
        "X_train = tokenizer.texts_to_sequences(df['urls'])\n",
        "y_train = df['class']\n",
        "#y_train = np_utils.to_categorical(df['class'], 2)\n",
        "\n",
        "max_features = 1000\n",
        "maxlen = df['urls'].str.len().max()"
      ],
      "execution_count": 0,
      "outputs": []
    },
    {
      "metadata": {
        "id": "5VjCR46XnD7p",
        "colab_type": "code",
        "colab": {
          "base_uri": "https://localhost:8080/",
          "height": 34
        },
        "outputId": "cb7bf59e-af41-47c9-ae8e-c6615fe7f836"
      },
      "cell_type": "code",
      "source": [
        "X_train, X_test, y_train, y_test = train_test_split(X_train, y_train, test_size=0.3, random_state=0)\n",
        "input_train = sequence.pad_sequences(X_train, maxlen)\n",
        "input_test = sequence.pad_sequences(X_test, maxlen)\n",
        "input_test.shape"
      ],
      "execution_count": 21,
      "outputs": [
        {
          "output_type": "execute_result",
          "data": {
            "text/plain": [
              "(2333, 86)"
            ]
          },
          "metadata": {
            "tags": []
          },
          "execution_count": 21
        }
      ]
    },
    {
      "metadata": {
        "id": "FIJ5Yc3qnD7r",
        "colab_type": "text"
      },
      "cell_type": "markdown",
      "source": [
        "rnn"
      ]
    },
    {
      "metadata": {
        "id": "AK5rok4tnD7s",
        "colab_type": "code",
        "colab": {}
      },
      "cell_type": "code",
      "source": [
        "rnn_model = Sequential()\n",
        "rnn_model.add(Embedding(max_features, 64))\n",
        "rnn_model.add(SimpleRNN(32))\n",
        "rnn_model.add(Dense(1, activation='sigmoid'))\n",
        "rnn_model.compile(optimizer=\"rmsprop\", loss=\"binary_crossentropy\", metrics=[\"acc\"])\n"
      ],
      "execution_count": 0,
      "outputs": []
    },
    {
      "metadata": {
        "id": "_yGD2rmSnD7u",
        "colab_type": "code",
        "colab": {
          "base_uri": "https://localhost:8080/",
          "height": 374
        },
        "outputId": "9fc629e1-a8e1-47d7-ee7b-3b7d5a6bf2b4"
      },
      "cell_type": "code",
      "source": [
        "rnn_model.fit(input_train, y_train, epochs=10, batch_size=8)"
      ],
      "execution_count": 26,
      "outputs": [
        {
          "output_type": "stream",
          "text": [
            "Epoch 1/10\n",
            "5443/5443 [==============================] - 44s 8ms/step - loss: 0.1793 - acc: 0.9298\n",
            "Epoch 2/10\n",
            "5443/5443 [==============================] - 42s 8ms/step - loss: 0.0739 - acc: 0.9745\n",
            "Epoch 3/10\n",
            "5443/5443 [==============================] - 43s 8ms/step - loss: 0.0602 - acc: 0.9814\n",
            "Epoch 4/10\n",
            "5443/5443 [==============================] - 43s 8ms/step - loss: 0.0526 - acc: 0.9838\n",
            "Epoch 5/10\n",
            "5443/5443 [==============================] - 43s 8ms/step - loss: 0.0481 - acc: 0.9848\n",
            "Epoch 6/10\n",
            "5443/5443 [==============================] - 44s 8ms/step - loss: 0.0458 - acc: 0.9860\n",
            "Epoch 7/10\n",
            "5443/5443 [==============================] - 43s 8ms/step - loss: 0.0412 - acc: 0.9866\n",
            "Epoch 8/10\n",
            "5443/5443 [==============================] - 43s 8ms/step - loss: 0.0401 - acc: 0.9871\n",
            "Epoch 9/10\n",
            "5443/5443 [==============================] - 45s 8ms/step - loss: 0.0365 - acc: 0.9899\n",
            "Epoch 10/10\n",
            "5443/5443 [==============================] - 45s 8ms/step - loss: 0.0366 - acc: 0.9881\n"
          ],
          "name": "stdout"
        },
        {
          "output_type": "execute_result",
          "data": {
            "text/plain": [
              "<keras.callbacks.History at 0x7f1fbb5ad4e0>"
            ]
          },
          "metadata": {
            "tags": []
          },
          "execution_count": 26
        }
      ]
    },
    {
      "metadata": {
        "id": "Qat1ZHgZnD7v",
        "colab_type": "code",
        "colab": {
          "base_uri": "https://localhost:8080/",
          "height": 68
        },
        "outputId": "2b263495-4781-498f-a1a1-2dcce70f84b2"
      },
      "cell_type": "code",
      "source": [
        "rnn_model.save('rnn_model.f5')\n",
        "score = rnn_model.evaluate(input_test, y_test, verbose=1)\n",
        "print('Test loss:', score[0])\n",
        "print('Test accuracy:', score[1])"
      ],
      "execution_count": 27,
      "outputs": [
        {
          "output_type": "stream",
          "text": [
            "2333/2333 [==============================] - 1s 630us/step\n",
            "Test loss: 0.06846918630985759\n",
            "Test accuracy: 0.9841405917941067\n"
          ],
          "name": "stdout"
        }
      ]
    },
    {
      "metadata": {
        "id": "H1BTGvJonD7x",
        "colab_type": "text"
      },
      "cell_type": "markdown",
      "source": [
        "cnn"
      ]
    },
    {
      "metadata": {
        "id": "JgtmL_XWnD7x",
        "colab_type": "code",
        "colab": {
          "base_uri": "https://localhost:8080/",
          "height": 272
        },
        "outputId": "ec4ffe2b-19cc-4c2f-a668-40d7251ca802"
      },
      "cell_type": "code",
      "source": [
        "from keras.layers import Conv1D\n",
        "\n",
        "cnn_model = Sequential()\n",
        "cnn_model.add(Embedding(max_features, 64, input_length = maxlen))\n",
        "cnn_model.add(Conv1D(32, 3, activation='relu'))\n",
        "cnn_model.add(Flatten())\n",
        "cnn_model.add(Dense(1, activation='sigmoid'))\n",
        "cnn_model.compile(optimizer=\"rmsprop\", loss=\"binary_crossentropy\", metrics=[\"acc\"])\n",
        "cnn_model.summary()"
      ],
      "execution_count": 28,
      "outputs": [
        {
          "output_type": "stream",
          "text": [
            "_________________________________________________________________\n",
            "Layer (type)                 Output Shape              Param #   \n",
            "=================================================================\n",
            "embedding_5 (Embedding)      (None, 86, 64)            64000     \n",
            "_________________________________________________________________\n",
            "conv1d_1 (Conv1D)            (None, 84, 32)            6176      \n",
            "_________________________________________________________________\n",
            "flatten_2 (Flatten)          (None, 2688)              0         \n",
            "_________________________________________________________________\n",
            "dense_8 (Dense)              (None, 1)                 2689      \n",
            "=================================================================\n",
            "Total params: 72,865\n",
            "Trainable params: 72,865\n",
            "Non-trainable params: 0\n",
            "_________________________________________________________________\n"
          ],
          "name": "stdout"
        }
      ]
    },
    {
      "metadata": {
        "id": "Z7bcDf1GnD7z",
        "colab_type": "code",
        "colab": {
          "base_uri": "https://localhost:8080/",
          "height": 374
        },
        "outputId": "d6896d28-726c-4a2a-cfd0-6e2c1b572d6b"
      },
      "cell_type": "code",
      "source": [
        "cnn_model.fit(input_train, y_train, epochs=10, batch_size=8)"
      ],
      "execution_count": 29,
      "outputs": [
        {
          "output_type": "stream",
          "text": [
            "Epoch 1/10\n",
            "5443/5443 [==============================] - 6s 1ms/step - loss: 0.1890 - acc: 0.9173\n",
            "Epoch 2/10\n",
            "5443/5443 [==============================] - 5s 855us/step - loss: 0.0711 - acc: 0.9792\n",
            "Epoch 3/10\n",
            "5443/5443 [==============================] - 5s 966us/step - loss: 0.0639 - acc: 0.9827\n",
            "Epoch 4/10\n",
            "5443/5443 [==============================] - 5s 863us/step - loss: 0.0605 - acc: 0.9835\n",
            "Epoch 5/10\n",
            "5443/5443 [==============================] - 5s 962us/step - loss: 0.0540 - acc: 0.9853\n",
            "Epoch 6/10\n",
            "5443/5443 [==============================] - 5s 846us/step - loss: 0.0505 - acc: 0.9846\n",
            "Epoch 7/10\n",
            "5443/5443 [==============================] - 5s 916us/step - loss: 0.0491 - acc: 0.9857\n",
            "Epoch 8/10\n",
            "5443/5443 [==============================] - 5s 921us/step - loss: 0.0459 - acc: 0.9871\n",
            "Epoch 9/10\n",
            "5443/5443 [==============================] - 5s 932us/step - loss: 0.0438 - acc: 0.9882\n",
            "Epoch 10/10\n",
            "5443/5443 [==============================] - 5s 886us/step - loss: 0.0444 - acc: 0.9868\n"
          ],
          "name": "stdout"
        },
        {
          "output_type": "execute_result",
          "data": {
            "text/plain": [
              "<keras.callbacks.History at 0x7f1fbb0c5da0>"
            ]
          },
          "metadata": {
            "tags": []
          },
          "execution_count": 29
        }
      ]
    },
    {
      "metadata": {
        "id": "1CYOIv2VnD70",
        "colab_type": "code",
        "colab": {
          "base_uri": "https://localhost:8080/",
          "height": 68
        },
        "outputId": "3bc2b9f4-ba82-4b28-fbb1-3de1f3ba4ebd"
      },
      "cell_type": "code",
      "source": [
        "score = cnn_model.evaluate(input_test, y_test, verbose=1)\n",
        "print('Test loss:', score[0])\n",
        "print('Test accuracy:', score[1])"
      ],
      "execution_count": 30,
      "outputs": [
        {
          "output_type": "stream",
          "text": [
            "2333/2333 [==============================] - 0s 162us/step\n",
            "Test loss: 0.07333180559835002\n",
            "Test accuracy: 0.982426060916935\n"
          ],
          "name": "stdout"
        }
      ]
    },
    {
      "metadata": {
        "id": "zc4wZXHbnD72",
        "colab_type": "code",
        "colab": {}
      },
      "cell_type": "code",
      "source": [
        "from sklearn.metrics import roc_curve\n",
        "\n",
        "y_pred_rnn = rnn_model.predict(input_test).ravel()\n",
        "fpr_rnn, tpr_rnn, thresholds_rnn = roc_curve(y_test, y_pred_rnn)\n",
        "\n",
        "y_pred_cnn = cnn_model.predict(input_test).ravel()\n",
        "fpr_cnn, tpr_cnn, thresholds_cnn = roc_curve(y_test, y_pred_cnn)\n",
        "\n",
        "from sklearn.metrics import auc\n",
        "auc_rnn = auc(fpr_rnn, tpr_rnn)\n",
        "auc_cnn = auc(fpr_cnn, tpr_cnn)"
      ],
      "execution_count": 0,
      "outputs": []
    },
    {
      "metadata": {
        "id": "BKK3GU-wnD74",
        "colab_type": "code",
        "colab": {
          "base_uri": "https://localhost:8080/",
          "height": 294
        },
        "outputId": "6fe35f4e-ad1a-4e06-9f1f-899950a22a87"
      },
      "cell_type": "code",
      "source": [
        "plt.figure()\n",
        "plt.plot([0, 1], [0, 1], 'k--')\n",
        "plt.plot(fpr_rnn, tpr_rnn, label='RNN (area = {:.4f})'.format(auc_rnn))\n",
        "plt.plot(fpr_cnn, tpr_cnn, label='CNN (area = {:.4f})'.format(auc_cnn))\n",
        "plt.xlabel('False positive rate')\n",
        "plt.ylabel('True positive rate')\n",
        "plt.title('ROC curve')\n",
        "plt.legend(loc='best')\n",
        "plt.show()\n"
      ],
      "execution_count": 32,
      "outputs": [
        {
          "output_type": "display_data",
          "data": {
            "image/png": "[encoded data removed]",
            "text/plain": [
              "<matplotlib.figure.Figure at 0x7f1fbacd8fd0>"
            ]
          },
          "metadata": {
            "tags": []
          }
        }
      ]
    }
  ]
}