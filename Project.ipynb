{
  "nbformat": 4,
  "nbformat_minor": 0,
  "metadata": {
    "colab": {
      "name": "Project.ipynb",
      "version": "0.3.2",
      "provenance": [],
      "collapsed_sections": []
    },
    "kernelspec": {
      "name": "python3",
      "display_name": "Python 3"
    },
    "accelerator": "GPU"
  },
  "cells": [
    {
      "metadata": {
        "scrolled": true,
        "id": "qdkxwL4LIBW6",
        "colab_type": "code",
        "colab": {}
      },
      "cell_type": "code",
      "source": [
        "import pandas as pd\n",
        "import numpy as np\n",
        "from sklearn.model_selection import train_test_split"
      ],
      "execution_count": 0,
      "outputs": []
    },
    {
      "metadata": {
        "id": "qvxZz6P9ID3j",
        "colab_type": "code",
        "outputId": "56677f32-20e2-458e-b033-ef7befebb6cd",
        "colab": {
          "base_uri": "https://localhost:8080/",
          "height": 129
        }
      },
      "cell_type": "code",
      "source": [
        "from google.colab import drive\n",
        "drive.mount(\"/content/gdrive\")"
      ],
      "execution_count": 3,
      "outputs": [
        {
          "output_type": "stream",
          "text": [
            "Go to this URL in a browser: https://accounts.google.com/o/oauth2/auth?client_id=947318989803-6bn6qk8qdgf4n4g3pfee6491hc0brc4i.apps.googleusercontent.com&redirect_uri=urn%3Aietf%3Awg%3Aoauth%3A2.0%3Aoob&scope=email%20https%3A%2F%2Fwww.googleapis.com%2Fauth%2Fdocs.test%20https%3A%2F%2Fwww.googleapis.com%2Fauth%2Fdrive%20https%3A%2F%2Fwww.googleapis.com%2Fauth%2Fdrive.photos.readonly%20https%3A%2F%2Fwww.googleapis.com%2Fauth%2Fpeopleapi.readonly&response_type=code\n",
            "\n",
            "Enter your authorization code:\n",
            "··········\n",
            "Mounted at /content/gdrive\n"
          ],
          "name": "stdout"
        }
      ]
    },
    {
      "metadata": {
        "id": "9f6kTr5LIBW9",
        "colab_type": "code",
        "colab": {}
      },
      "cell_type": "code",
      "source": [
        "yelp = pd.read_csv(\"/content/gdrive/My Drive/yelp.csv\", sep = \",\", index_col = False)"
      ],
      "execution_count": 0,
      "outputs": []
    },
    {
      "metadata": {
        "id": "S41qWcR0tdZW",
        "colab_type": "code",
        "colab": {}
      },
      "cell_type": "code",
      "source": [
        "def xsplit(data):\n",
        "  return np.asarray(data.drop([\"photo_id\", \"label\"], axis = 1))\n",
        "def ysplit(data):\n",
        "  return np.asarray(pd.get_dummies(data[\"label\"]))"
      ],
      "execution_count": 0,
      "outputs": []
    },
    {
      "metadata": {
        "id": "tIrUnousq6s1",
        "colab_type": "code",
        "colab": {}
      },
      "cell_type": "code",
      "source": [
        "## train test full dataset\n",
        "train, test = train_test_split(yelp, test_size = 0.2, random_state = 7006)\n",
        "train, valid = train_test_split(train, test_size = 0.4, random_state = 6288)\n",
        "x_train = xsplit(train)\n",
        "y_train = ysplit(train)\n",
        "x_test = xsplit(test)\n",
        "y_test = ysplit(test)\n",
        "x_valid = xsplit(valid)\n",
        "y_valid = ysplit(valid)\n",
        "del train\n",
        "del valid\n",
        "del test"
      ],
      "execution_count": 0,
      "outputs": []
    },
    {
      "metadata": {
        "id": "d42k9VKhIBXJ",
        "colab_type": "code",
        "colab": {}
      },
      "cell_type": "code",
      "source": [
        "dim = x_train.shape[1]\n",
        "num_classes = 5"
      ],
      "execution_count": 0,
      "outputs": []
    },
    {
      "metadata": {
        "id": "nHf8ywANIBXL",
        "colab_type": "code",
        "outputId": "c4d8287c-8dd2-4def-98c8-f3c9a79dcdb9",
        "colab": {
          "base_uri": "https://localhost:8080/",
          "height": 35
        }
      },
      "cell_type": "code",
      "source": [
        "from keras.layers import Input, Dense, Dropout, Embedding, Conv1D, MaxPooling1D, Flatten, BatchNormalization\n",
        "from keras.applications import VGG16, VGG19, ResNet50, InceptionV3, InceptionResNetV2, MobileNet, MobileNetV2\n",
        "from keras.models import Sequential\n",
        "import keras\n",
        "import cv2"
      ],
      "execution_count": 8,
      "outputs": [
        {
          "output_type": "stream",
          "text": [
            "Using TensorFlow backend.\n"
          ],
          "name": "stderr"
        }
      ]
    },
    {
      "metadata": {
        "id": "0A6UJtcjIBXN",
        "colab_type": "code",
        "outputId": "337cc6aa-7c38-4e14-f37f-96ddd1d15600",
        "colab": {
          "base_uri": "https://localhost:8080/",
          "height": 256
        }
      },
      "cell_type": "code",
      "source": [
        "## MLP 87.8%\n",
        "model = Sequential()\n",
        "model.add(Dense(512, activation = \"relu\", input_shape = (100,)))\n",
        "model.add(Dropout(0.7))\n",
        "model.add(Dense(num_classes, activation = \"softmax\"))\n",
        "model.compile(loss = \"categorical_crossentropy\", optimizer = \"adadelta\", metrics = [\"accuracy\"])\n",
        "model.summary()"
      ],
      "execution_count": 9,
      "outputs": [
        {
          "output_type": "stream",
          "text": [
            "_________________________________________________________________\n",
            "Layer (type)                 Output Shape              Param #   \n",
            "=================================================================\n",
            "dense_1 (Dense)              (None, 512)               51712     \n",
            "_________________________________________________________________\n",
            "dropout_1 (Dropout)          (None, 512)               0         \n",
            "_________________________________________________________________\n",
            "dense_2 (Dense)              (None, 5)                 2565      \n",
            "=================================================================\n",
            "Total params: 54,277\n",
            "Trainable params: 54,277\n",
            "Non-trainable params: 0\n",
            "_________________________________________________________________\n"
          ],
          "name": "stdout"
        }
      ]
    },
    {
      "metadata": {
        "id": "41KxfcaiIBXQ",
        "colab_type": "code",
        "colab": {
          "base_uri": "https://localhost:8080/",
          "height": 7395
        },
        "outputId": "6b6afea9-4b1a-4891-b469-04b83ed61494"
      },
      "cell_type": "code",
      "source": [
        "train_model = model.fit(x_train, y_train, epochs = 200, batch_size = 2048, verbose = 1, validation_data = (x_valid, y_valid))"
      ],
      "execution_count": 10,
      "outputs": [
        {
          "output_type": "stream",
          "text": [
            "Train on 134875 samples, validate on 89918 samples\n",
            "Epoch 1/200\n",
            "134875/134875 [==============================] - 3s 23us/step - loss: 0.7719 - acc: 0.7416 - val_loss: 0.4987 - val_acc: 0.8271\n",
            "Epoch 2/200\n",
            "134875/134875 [==============================] - 1s 7us/step - loss: 0.5457 - acc: 0.8144 - val_loss: 0.4551 - val_acc: 0.8384\n",
            "Epoch 3/200\n",
            "134875/134875 [==============================] - 1s 8us/step - loss: 0.5039 - acc: 0.8233 - val_loss: 0.4385 - val_acc: 0.8428\n",
            "Epoch 4/200\n",
            "134875/134875 [==============================] - 1s 8us/step - loss: 0.4800 - acc: 0.8315 - val_loss: 0.4264 - val_acc: 0.8456\n",
            "Epoch 5/200\n",
            "134875/134875 [==============================] - 1s 9us/step - loss: 0.4631 - acc: 0.8358 - val_loss: 0.4193 - val_acc: 0.8475\n",
            "Epoch 6/200\n",
            "134875/134875 [==============================] - 1s 8us/step - loss: 0.4527 - acc: 0.8394 - val_loss: 0.4125 - val_acc: 0.8511\n",
            "Epoch 7/200\n",
            "134875/134875 [==============================] - 1s 8us/step - loss: 0.4405 - acc: 0.8429 - val_loss: 0.4069 - val_acc: 0.8529\n",
            "Epoch 8/200\n",
            "134875/134875 [==============================] - 1s 8us/step - loss: 0.4363 - acc: 0.8445 - val_loss: 0.4026 - val_acc: 0.8544\n",
            "Epoch 9/200\n",
            "134875/134875 [==============================] - 1s 8us/step - loss: 0.4296 - acc: 0.8464 - val_loss: 0.3990 - val_acc: 0.8563\n",
            "Epoch 10/200\n",
            "134875/134875 [==============================] - 1s 8us/step - loss: 0.4241 - acc: 0.8482 - val_loss: 0.3951 - val_acc: 0.8577\n",
            "Epoch 11/200\n",
            "134875/134875 [==============================] - 1s 8us/step - loss: 0.4193 - acc: 0.8505 - val_loss: 0.3923 - val_acc: 0.8581\n",
            "Epoch 12/200\n",
            "134875/134875 [==============================] - 1s 8us/step - loss: 0.4155 - acc: 0.8516 - val_loss: 0.3891 - val_acc: 0.8596\n",
            "Epoch 13/200\n",
            "134875/134875 [==============================] - 1s 8us/step - loss: 0.4109 - acc: 0.8538 - val_loss: 0.3873 - val_acc: 0.8604\n",
            "Epoch 14/200\n",
            "134875/134875 [==============================] - 1s 8us/step - loss: 0.4062 - acc: 0.8543 - val_loss: 0.3853 - val_acc: 0.8618\n",
            "Epoch 15/200\n",
            "134875/134875 [==============================] - 1s 8us/step - loss: 0.4045 - acc: 0.8551 - val_loss: 0.3826 - val_acc: 0.8629\n",
            "Epoch 16/200\n",
            "134875/134875 [==============================] - 1s 8us/step - loss: 0.4023 - acc: 0.8563 - val_loss: 0.3822 - val_acc: 0.8632\n",
            "Epoch 17/200\n",
            "134875/134875 [==============================] - 1s 8us/step - loss: 0.3991 - acc: 0.8572 - val_loss: 0.3795 - val_acc: 0.8642\n",
            "Epoch 18/200\n",
            "134875/134875 [==============================] - 1s 8us/step - loss: 0.3968 - acc: 0.8572 - val_loss: 0.3784 - val_acc: 0.8649\n",
            "Epoch 19/200\n",
            "134875/134875 [==============================] - 1s 8us/step - loss: 0.3950 - acc: 0.8591 - val_loss: 0.3769 - val_acc: 0.8653\n",
            "Epoch 20/200\n",
            "134875/134875 [==============================] - 1s 8us/step - loss: 0.3934 - acc: 0.8592 - val_loss: 0.3745 - val_acc: 0.8662\n",
            "Epoch 21/200\n",
            "134875/134875 [==============================] - 1s 8us/step - loss: 0.3906 - acc: 0.8597 - val_loss: 0.3737 - val_acc: 0.8664\n",
            "Epoch 22/200\n",
            "134875/134875 [==============================] - 1s 8us/step - loss: 0.3887 - acc: 0.8608 - val_loss: 0.3734 - val_acc: 0.8668\n",
            "Epoch 23/200\n",
            "134875/134875 [==============================] - 1s 8us/step - loss: 0.3891 - acc: 0.8611 - val_loss: 0.3718 - val_acc: 0.8667\n",
            "Epoch 24/200\n",
            "134875/134875 [==============================] - 1s 8us/step - loss: 0.3875 - acc: 0.8617 - val_loss: 0.3711 - val_acc: 0.8671\n",
            "Epoch 25/200\n",
            "134875/134875 [==============================] - 1s 8us/step - loss: 0.3863 - acc: 0.8627 - val_loss: 0.3709 - val_acc: 0.8678\n",
            "Epoch 26/200\n",
            "134875/134875 [==============================] - 1s 8us/step - loss: 0.3836 - acc: 0.8630 - val_loss: 0.3686 - val_acc: 0.8679\n",
            "Epoch 27/200\n",
            "134875/134875 [==============================] - 1s 8us/step - loss: 0.3826 - acc: 0.8640 - val_loss: 0.3682 - val_acc: 0.8675\n",
            "Epoch 28/200\n",
            "134875/134875 [==============================] - 1s 8us/step - loss: 0.3813 - acc: 0.8639 - val_loss: 0.3679 - val_acc: 0.8681\n",
            "Epoch 29/200\n",
            "134875/134875 [==============================] - 1s 8us/step - loss: 0.3796 - acc: 0.8642 - val_loss: 0.3676 - val_acc: 0.8688\n",
            "Epoch 30/200\n",
            "134875/134875 [==============================] - 1s 8us/step - loss: 0.3785 - acc: 0.8648 - val_loss: 0.3662 - val_acc: 0.8691\n",
            "Epoch 31/200\n",
            "134875/134875 [==============================] - 1s 8us/step - loss: 0.3781 - acc: 0.8647 - val_loss: 0.3660 - val_acc: 0.8690\n",
            "Epoch 32/200\n",
            "134875/134875 [==============================] - 1s 8us/step - loss: 0.3761 - acc: 0.8654 - val_loss: 0.3649 - val_acc: 0.8695\n",
            "Epoch 33/200\n",
            "134875/134875 [==============================] - 1s 8us/step - loss: 0.3762 - acc: 0.8655 - val_loss: 0.3645 - val_acc: 0.8701\n",
            "Epoch 34/200\n",
            "134875/134875 [==============================] - 1s 8us/step - loss: 0.3746 - acc: 0.8658 - val_loss: 0.3648 - val_acc: 0.8701\n",
            "Epoch 35/200\n",
            "134875/134875 [==============================] - 1s 8us/step - loss: 0.3755 - acc: 0.8656 - val_loss: 0.3637 - val_acc: 0.8705\n",
            "Epoch 36/200\n",
            "134875/134875 [==============================] - 1s 8us/step - loss: 0.3732 - acc: 0.8666 - val_loss: 0.3629 - val_acc: 0.8707\n",
            "Epoch 37/200\n",
            "134875/134875 [==============================] - 1s 8us/step - loss: 0.3709 - acc: 0.8671 - val_loss: 0.3623 - val_acc: 0.8710\n",
            "Epoch 38/200\n",
            "134875/134875 [==============================] - 1s 8us/step - loss: 0.3707 - acc: 0.8674 - val_loss: 0.3625 - val_acc: 0.8709\n",
            "Epoch 39/200\n",
            "134875/134875 [==============================] - 1s 8us/step - loss: 0.3714 - acc: 0.8669 - val_loss: 0.3626 - val_acc: 0.8710\n",
            "Epoch 40/200\n",
            "134875/134875 [==============================] - 1s 8us/step - loss: 0.3683 - acc: 0.8679 - val_loss: 0.3618 - val_acc: 0.8713\n",
            "Epoch 41/200\n",
            "134875/134875 [==============================] - 1s 8us/step - loss: 0.3694 - acc: 0.8681 - val_loss: 0.3617 - val_acc: 0.8712\n",
            "Epoch 42/200\n",
            "134875/134875 [==============================] - 1s 8us/step - loss: 0.3689 - acc: 0.8684 - val_loss: 0.3616 - val_acc: 0.8719\n",
            "Epoch 43/200\n",
            "134875/134875 [==============================] - 1s 8us/step - loss: 0.3676 - acc: 0.8685 - val_loss: 0.3605 - val_acc: 0.8724\n",
            "Epoch 44/200\n",
            "134875/134875 [==============================] - 1s 8us/step - loss: 0.3678 - acc: 0.8685 - val_loss: 0.3604 - val_acc: 0.8727\n",
            "Epoch 45/200\n",
            "134875/134875 [==============================] - 1s 8us/step - loss: 0.3673 - acc: 0.8692 - val_loss: 0.3604 - val_acc: 0.8719\n",
            "Epoch 46/200\n",
            "134875/134875 [==============================] - 1s 8us/step - loss: 0.3646 - acc: 0.8690 - val_loss: 0.3604 - val_acc: 0.8715\n",
            "Epoch 47/200\n",
            "134875/134875 [==============================] - 1s 8us/step - loss: 0.3650 - acc: 0.8693 - val_loss: 0.3593 - val_acc: 0.8723\n",
            "Epoch 48/200\n",
            "134875/134875 [==============================] - 1s 8us/step - loss: 0.3642 - acc: 0.8702 - val_loss: 0.3586 - val_acc: 0.8728\n",
            "Epoch 49/200\n",
            "134875/134875 [==============================] - 1s 8us/step - loss: 0.3637 - acc: 0.8704 - val_loss: 0.3584 - val_acc: 0.8734\n",
            "Epoch 50/200\n",
            "134875/134875 [==============================] - 1s 8us/step - loss: 0.3625 - acc: 0.8704 - val_loss: 0.3582 - val_acc: 0.8735\n",
            "Epoch 51/200\n",
            "134875/134875 [==============================] - 1s 8us/step - loss: 0.3618 - acc: 0.8707 - val_loss: 0.3575 - val_acc: 0.8734\n",
            "Epoch 52/200\n",
            "134875/134875 [==============================] - 1s 8us/step - loss: 0.3628 - acc: 0.8697 - val_loss: 0.3593 - val_acc: 0.8731\n",
            "Epoch 53/200\n",
            "134875/134875 [==============================] - 1s 8us/step - loss: 0.3605 - acc: 0.8702 - val_loss: 0.3575 - val_acc: 0.8735\n",
            "Epoch 54/200\n",
            "134875/134875 [==============================] - 1s 8us/step - loss: 0.3597 - acc: 0.8716 - val_loss: 0.3584 - val_acc: 0.8735\n",
            "Epoch 55/200\n",
            "134875/134875 [==============================] - 1s 8us/step - loss: 0.3619 - acc: 0.8700 - val_loss: 0.3574 - val_acc: 0.8733\n",
            "Epoch 56/200\n",
            "134875/134875 [==============================] - 1s 8us/step - loss: 0.3612 - acc: 0.8704 - val_loss: 0.3574 - val_acc: 0.8730\n",
            "Epoch 57/200\n",
            "134875/134875 [==============================] - 1s 8us/step - loss: 0.3597 - acc: 0.8713 - val_loss: 0.3576 - val_acc: 0.8737\n",
            "Epoch 58/200\n",
            "134875/134875 [==============================] - 1s 8us/step - loss: 0.3585 - acc: 0.8729 - val_loss: 0.3584 - val_acc: 0.8738\n",
            "Epoch 59/200\n",
            "134875/134875 [==============================] - 1s 8us/step - loss: 0.3579 - acc: 0.8718 - val_loss: 0.3573 - val_acc: 0.8733\n",
            "Epoch 60/200\n",
            "134875/134875 [==============================] - 1s 8us/step - loss: 0.3579 - acc: 0.8712 - val_loss: 0.3567 - val_acc: 0.8742\n",
            "Epoch 61/200\n",
            "134875/134875 [==============================] - 1s 8us/step - loss: 0.3574 - acc: 0.8729 - val_loss: 0.3558 - val_acc: 0.8738\n",
            "Epoch 62/200\n",
            "134875/134875 [==============================] - 1s 8us/step - loss: 0.3572 - acc: 0.8725 - val_loss: 0.3558 - val_acc: 0.8736\n",
            "Epoch 63/200\n",
            "134875/134875 [==============================] - 1s 8us/step - loss: 0.3559 - acc: 0.8725 - val_loss: 0.3556 - val_acc: 0.8740\n",
            "Epoch 64/200\n",
            "134875/134875 [==============================] - 1s 8us/step - loss: 0.3543 - acc: 0.8736 - val_loss: 0.3555 - val_acc: 0.8740\n",
            "Epoch 65/200\n",
            "134875/134875 [==============================] - 1s 8us/step - loss: 0.3550 - acc: 0.8733 - val_loss: 0.3546 - val_acc: 0.8747\n",
            "Epoch 66/200\n",
            "134875/134875 [==============================] - 1s 8us/step - loss: 0.3557 - acc: 0.8727 - val_loss: 0.3560 - val_acc: 0.8746\n",
            "Epoch 67/200\n",
            "134875/134875 [==============================] - 1s 8us/step - loss: 0.3544 - acc: 0.8729 - val_loss: 0.3549 - val_acc: 0.8745\n",
            "Epoch 68/200\n",
            "134875/134875 [==============================] - 1s 8us/step - loss: 0.3553 - acc: 0.8719 - val_loss: 0.3556 - val_acc: 0.8742\n",
            "Epoch 69/200\n",
            "134875/134875 [==============================] - 1s 8us/step - loss: 0.3537 - acc: 0.8730 - val_loss: 0.3554 - val_acc: 0.8745\n",
            "Epoch 70/200\n",
            "134875/134875 [==============================] - 1s 8us/step - loss: 0.3524 - acc: 0.8736 - val_loss: 0.3552 - val_acc: 0.8746\n",
            "Epoch 71/200\n",
            "134875/134875 [==============================] - 1s 8us/step - loss: 0.3531 - acc: 0.8736 - val_loss: 0.3550 - val_acc: 0.8743\n",
            "Epoch 72/200\n",
            "134875/134875 [==============================] - 1s 8us/step - loss: 0.3528 - acc: 0.8746 - val_loss: 0.3550 - val_acc: 0.8744\n",
            "Epoch 73/200\n",
            "134875/134875 [==============================] - 1s 8us/step - loss: 0.3514 - acc: 0.8738 - val_loss: 0.3548 - val_acc: 0.8746\n",
            "Epoch 74/200\n",
            "134875/134875 [==============================] - 1s 8us/step - loss: 0.3509 - acc: 0.8742 - val_loss: 0.3544 - val_acc: 0.8756\n",
            "Epoch 75/200\n",
            "134875/134875 [==============================] - 1s 8us/step - loss: 0.3513 - acc: 0.8752 - val_loss: 0.3548 - val_acc: 0.8749\n",
            "Epoch 76/200\n",
            "134875/134875 [==============================] - 1s 8us/step - loss: 0.3507 - acc: 0.8745 - val_loss: 0.3552 - val_acc: 0.8748\n",
            "Epoch 77/200\n",
            "134875/134875 [==============================] - 1s 8us/step - loss: 0.3508 - acc: 0.8747 - val_loss: 0.3539 - val_acc: 0.8752\n",
            "Epoch 78/200\n",
            "134875/134875 [==============================] - 1s 8us/step - loss: 0.3493 - acc: 0.8749 - val_loss: 0.3546 - val_acc: 0.8751\n",
            "Epoch 79/200\n",
            "134875/134875 [==============================] - 1s 8us/step - loss: 0.3499 - acc: 0.8743 - val_loss: 0.3542 - val_acc: 0.8752\n",
            "Epoch 80/200\n",
            "134875/134875 [==============================] - 1s 8us/step - loss: 0.3488 - acc: 0.8752 - val_loss: 0.3541 - val_acc: 0.8752\n",
            "Epoch 81/200\n",
            "134875/134875 [==============================] - 1s 8us/step - loss: 0.3493 - acc: 0.8754 - val_loss: 0.3542 - val_acc: 0.8748\n",
            "Epoch 82/200\n",
            "134875/134875 [==============================] - 1s 8us/step - loss: 0.3490 - acc: 0.8755 - val_loss: 0.3538 - val_acc: 0.8749\n",
            "Epoch 83/200\n",
            "134875/134875 [==============================] - 1s 8us/step - loss: 0.3484 - acc: 0.8749 - val_loss: 0.3540 - val_acc: 0.8751\n",
            "Epoch 84/200\n",
            "134875/134875 [==============================] - 1s 8us/step - loss: 0.3486 - acc: 0.8750 - val_loss: 0.3533 - val_acc: 0.8757\n",
            "Epoch 85/200\n",
            "134875/134875 [==============================] - 1s 8us/step - loss: 0.3472 - acc: 0.8746 - val_loss: 0.3546 - val_acc: 0.8754\n",
            "Epoch 86/200\n",
            "134875/134875 [==============================] - 1s 8us/step - loss: 0.3478 - acc: 0.8759 - val_loss: 0.3533 - val_acc: 0.8755\n",
            "Epoch 87/200\n",
            "134875/134875 [==============================] - 1s 8us/step - loss: 0.3471 - acc: 0.8764 - val_loss: 0.3543 - val_acc: 0.8755\n",
            "Epoch 88/200\n",
            "134875/134875 [==============================] - 1s 8us/step - loss: 0.3470 - acc: 0.8748 - val_loss: 0.3535 - val_acc: 0.8750\n",
            "Epoch 89/200\n",
            "134875/134875 [==============================] - 1s 8us/step - loss: 0.3479 - acc: 0.8753 - val_loss: 0.3532 - val_acc: 0.8755\n",
            "Epoch 90/200\n",
            "134875/134875 [==============================] - 1s 8us/step - loss: 0.3454 - acc: 0.8765 - val_loss: 0.3543 - val_acc: 0.8747\n",
            "Epoch 91/200\n",
            "134875/134875 [==============================] - 1s 8us/step - loss: 0.3459 - acc: 0.8763 - val_loss: 0.3531 - val_acc: 0.8748\n",
            "Epoch 92/200\n",
            "134875/134875 [==============================] - 1s 8us/step - loss: 0.3456 - acc: 0.8762 - val_loss: 0.3541 - val_acc: 0.8754\n",
            "Epoch 93/200\n",
            "134875/134875 [==============================] - 1s 8us/step - loss: 0.3451 - acc: 0.8765 - val_loss: 0.3538 - val_acc: 0.8757\n",
            "Epoch 94/200\n",
            "134875/134875 [==============================] - 1s 8us/step - loss: 0.3441 - acc: 0.8769 - val_loss: 0.3534 - val_acc: 0.8756\n",
            "Epoch 95/200\n",
            "134875/134875 [==============================] - 1s 8us/step - loss: 0.3453 - acc: 0.8765 - val_loss: 0.3532 - val_acc: 0.8759\n",
            "Epoch 96/200\n",
            "134875/134875 [==============================] - 1s 8us/step - loss: 0.3431 - acc: 0.8772 - val_loss: 0.3538 - val_acc: 0.8751\n",
            "Epoch 97/200\n",
            "134875/134875 [==============================] - 1s 8us/step - loss: 0.3445 - acc: 0.8767 - val_loss: 0.3527 - val_acc: 0.8756\n",
            "Epoch 98/200\n",
            "134875/134875 [==============================] - 1s 8us/step - loss: 0.3439 - acc: 0.8765 - val_loss: 0.3525 - val_acc: 0.8760\n",
            "Epoch 99/200\n",
            "134875/134875 [==============================] - 1s 8us/step - loss: 0.3446 - acc: 0.8764 - val_loss: 0.3533 - val_acc: 0.8755\n",
            "Epoch 100/200\n",
            "134875/134875 [==============================] - 1s 8us/step - loss: 0.3435 - acc: 0.8773 - val_loss: 0.3516 - val_acc: 0.8760\n",
            "Epoch 101/200\n",
            "134875/134875 [==============================] - 1s 8us/step - loss: 0.3427 - acc: 0.8774 - val_loss: 0.3538 - val_acc: 0.8757\n",
            "Epoch 102/200\n",
            "134875/134875 [==============================] - 1s 8us/step - loss: 0.3418 - acc: 0.8777 - val_loss: 0.3528 - val_acc: 0.8763\n",
            "Epoch 103/200\n",
            "134875/134875 [==============================] - 1s 8us/step - loss: 0.3422 - acc: 0.8767 - val_loss: 0.3531 - val_acc: 0.8757\n",
            "Epoch 104/200\n",
            "134875/134875 [==============================] - 1s 8us/step - loss: 0.3424 - acc: 0.8771 - val_loss: 0.3524 - val_acc: 0.8759\n",
            "Epoch 105/200\n",
            "134875/134875 [==============================] - 1s 8us/step - loss: 0.3421 - acc: 0.8763 - val_loss: 0.3534 - val_acc: 0.8759\n",
            "Epoch 106/200\n",
            "134875/134875 [==============================] - 1s 8us/step - loss: 0.3422 - acc: 0.8773 - val_loss: 0.3527 - val_acc: 0.8759\n",
            "Epoch 107/200\n",
            "134875/134875 [==============================] - 1s 8us/step - loss: 0.3403 - acc: 0.8777 - val_loss: 0.3536 - val_acc: 0.8752\n",
            "Epoch 108/200\n",
            "134875/134875 [==============================] - 1s 8us/step - loss: 0.3412 - acc: 0.8775 - val_loss: 0.3532 - val_acc: 0.8759\n",
            "Epoch 109/200\n",
            "134875/134875 [==============================] - 1s 8us/step - loss: 0.3399 - acc: 0.8776 - val_loss: 0.3536 - val_acc: 0.8758\n",
            "Epoch 110/200\n",
            "134875/134875 [==============================] - 1s 8us/step - loss: 0.3409 - acc: 0.8785 - val_loss: 0.3542 - val_acc: 0.8754\n",
            "Epoch 111/200\n",
            "134875/134875 [==============================] - 1s 8us/step - loss: 0.3408 - acc: 0.8778 - val_loss: 0.3529 - val_acc: 0.8762\n",
            "Epoch 112/200\n",
            "134875/134875 [==============================] - 1s 8us/step - loss: 0.3410 - acc: 0.8778 - val_loss: 0.3534 - val_acc: 0.8763\n",
            "Epoch 113/200\n",
            "134875/134875 [==============================] - 1s 8us/step - loss: 0.3386 - acc: 0.8776 - val_loss: 0.3541 - val_acc: 0.8760\n",
            "Epoch 114/200\n",
            "134875/134875 [==============================] - 1s 8us/step - loss: 0.3385 - acc: 0.8788 - val_loss: 0.3530 - val_acc: 0.8764\n",
            "Epoch 115/200\n",
            "134875/134875 [==============================] - 1s 8us/step - loss: 0.3381 - acc: 0.8782 - val_loss: 0.3531 - val_acc: 0.8762\n",
            "Epoch 116/200\n",
            "134875/134875 [==============================] - 1s 8us/step - loss: 0.3387 - acc: 0.8780 - val_loss: 0.3530 - val_acc: 0.8764\n",
            "Epoch 117/200\n",
            "134875/134875 [==============================] - 1s 8us/step - loss: 0.3386 - acc: 0.8782 - val_loss: 0.3533 - val_acc: 0.8766\n",
            "Epoch 118/200\n",
            "134875/134875 [==============================] - 1s 8us/step - loss: 0.3396 - acc: 0.8779 - val_loss: 0.3532 - val_acc: 0.8763\n",
            "Epoch 119/200\n",
            "134875/134875 [==============================] - 1s 8us/step - loss: 0.3389 - acc: 0.8787 - val_loss: 0.3534 - val_acc: 0.8764\n",
            "Epoch 120/200\n",
            "134875/134875 [==============================] - 1s 8us/step - loss: 0.3378 - acc: 0.8798 - val_loss: 0.3525 - val_acc: 0.8767\n",
            "Epoch 121/200\n",
            "134875/134875 [==============================] - 1s 8us/step - loss: 0.3378 - acc: 0.8790 - val_loss: 0.3526 - val_acc: 0.8764\n",
            "Epoch 122/200\n",
            "134875/134875 [==============================] - 1s 8us/step - loss: 0.3375 - acc: 0.8793 - val_loss: 0.3539 - val_acc: 0.8762\n",
            "Epoch 123/200\n",
            "134875/134875 [==============================] - 1s 8us/step - loss: 0.3369 - acc: 0.8802 - val_loss: 0.3539 - val_acc: 0.8763\n",
            "Epoch 124/200\n",
            "134875/134875 [==============================] - 1s 8us/step - loss: 0.3367 - acc: 0.8800 - val_loss: 0.3527 - val_acc: 0.8764\n",
            "Epoch 125/200\n",
            "134875/134875 [==============================] - 1s 8us/step - loss: 0.3373 - acc: 0.8796 - val_loss: 0.3531 - val_acc: 0.8760\n",
            "Epoch 126/200\n",
            "134875/134875 [==============================] - 1s 8us/step - loss: 0.3371 - acc: 0.8800 - val_loss: 0.3531 - val_acc: 0.8768\n",
            "Epoch 127/200\n",
            "134875/134875 [==============================] - 1s 8us/step - loss: 0.3363 - acc: 0.8786 - val_loss: 0.3537 - val_acc: 0.8763\n",
            "Epoch 128/200\n",
            "134875/134875 [==============================] - 1s 8us/step - loss: 0.3371 - acc: 0.8789 - val_loss: 0.3535 - val_acc: 0.8769\n",
            "Epoch 129/200\n",
            "134875/134875 [==============================] - 1s 8us/step - loss: 0.3355 - acc: 0.8794 - val_loss: 0.3531 - val_acc: 0.8766\n",
            "Epoch 130/200\n",
            "134875/134875 [==============================] - 1s 8us/step - loss: 0.3357 - acc: 0.8798 - val_loss: 0.3526 - val_acc: 0.8768\n",
            "Epoch 131/200\n",
            "134875/134875 [==============================] - 1s 8us/step - loss: 0.3357 - acc: 0.8796 - val_loss: 0.3532 - val_acc: 0.8763\n",
            "Epoch 132/200\n",
            "134875/134875 [==============================] - 1s 8us/step - loss: 0.3354 - acc: 0.8791 - val_loss: 0.3531 - val_acc: 0.8766\n",
            "Epoch 133/200\n",
            "134875/134875 [==============================] - 1s 8us/step - loss: 0.3352 - acc: 0.8808 - val_loss: 0.3528 - val_acc: 0.8763\n",
            "Epoch 134/200\n",
            "134875/134875 [==============================] - 1s 8us/step - loss: 0.3353 - acc: 0.8805 - val_loss: 0.3546 - val_acc: 0.8760\n",
            "Epoch 135/200\n",
            "134875/134875 [==============================] - 1s 8us/step - loss: 0.3367 - acc: 0.8797 - val_loss: 0.3537 - val_acc: 0.8765\n",
            "Epoch 136/200\n",
            "134875/134875 [==============================] - 1s 8us/step - loss: 0.3329 - acc: 0.8808 - val_loss: 0.3540 - val_acc: 0.8765\n",
            "Epoch 137/200\n",
            "134875/134875 [==============================] - 1s 8us/step - loss: 0.3347 - acc: 0.8808 - val_loss: 0.3546 - val_acc: 0.8761\n",
            "Epoch 138/200\n",
            "134875/134875 [==============================] - 1s 8us/step - loss: 0.3351 - acc: 0.8802 - val_loss: 0.3534 - val_acc: 0.8764\n",
            "Epoch 139/200\n",
            "134875/134875 [==============================] - 1s 8us/step - loss: 0.3342 - acc: 0.8800 - val_loss: 0.3533 - val_acc: 0.8762\n",
            "Epoch 140/200\n",
            "134875/134875 [==============================] - 1s 8us/step - loss: 0.3329 - acc: 0.8801 - val_loss: 0.3532 - val_acc: 0.8765\n",
            "Epoch 141/200\n",
            "134875/134875 [==============================] - 1s 8us/step - loss: 0.3341 - acc: 0.8794 - val_loss: 0.3528 - val_acc: 0.8768\n",
            "Epoch 142/200\n",
            "134875/134875 [==============================] - 1s 8us/step - loss: 0.3340 - acc: 0.8809 - val_loss: 0.3533 - val_acc: 0.8764\n",
            "Epoch 143/200\n",
            "134875/134875 [==============================] - 1s 8us/step - loss: 0.3331 - acc: 0.8799 - val_loss: 0.3542 - val_acc: 0.8765\n",
            "Epoch 144/200\n",
            "134875/134875 [==============================] - 1s 8us/step - loss: 0.3345 - acc: 0.8801 - val_loss: 0.3528 - val_acc: 0.8771\n",
            "Epoch 145/200\n",
            "134875/134875 [==============================] - 1s 8us/step - loss: 0.3322 - acc: 0.8808 - val_loss: 0.3533 - val_acc: 0.8771\n",
            "Epoch 146/200\n",
            "134875/134875 [==============================] - 1s 8us/step - loss: 0.3330 - acc: 0.8807 - val_loss: 0.3525 - val_acc: 0.8768\n",
            "Epoch 147/200\n",
            "134875/134875 [==============================] - 1s 8us/step - loss: 0.3331 - acc: 0.8806 - val_loss: 0.3533 - val_acc: 0.8766\n",
            "Epoch 148/200\n",
            "134875/134875 [==============================] - 1s 8us/step - loss: 0.3321 - acc: 0.8806 - val_loss: 0.3532 - val_acc: 0.8767\n",
            "Epoch 149/200\n",
            "134875/134875 [==============================] - 1s 8us/step - loss: 0.3343 - acc: 0.8798 - val_loss: 0.3532 - val_acc: 0.8768\n",
            "Epoch 150/200\n",
            "134875/134875 [==============================] - 1s 8us/step - loss: 0.3315 - acc: 0.8807 - val_loss: 0.3530 - val_acc: 0.8768\n",
            "Epoch 151/200\n",
            "134875/134875 [==============================] - 1s 8us/step - loss: 0.3321 - acc: 0.8809 - val_loss: 0.3536 - val_acc: 0.8771\n",
            "Epoch 152/200\n",
            "134875/134875 [==============================] - 1s 8us/step - loss: 0.3314 - acc: 0.8812 - val_loss: 0.3542 - val_acc: 0.8768\n",
            "Epoch 153/200\n",
            "134875/134875 [==============================] - 1s 8us/step - loss: 0.3316 - acc: 0.8809 - val_loss: 0.3544 - val_acc: 0.8765\n",
            "Epoch 154/200\n",
            "134875/134875 [==============================] - 1s 8us/step - loss: 0.3309 - acc: 0.8815 - val_loss: 0.3537 - val_acc: 0.8771\n",
            "Epoch 155/200\n",
            "134875/134875 [==============================] - 1s 8us/step - loss: 0.3333 - acc: 0.8799 - val_loss: 0.3532 - val_acc: 0.8767\n",
            "Epoch 156/200\n",
            "134875/134875 [==============================] - 1s 8us/step - loss: 0.3319 - acc: 0.8812 - val_loss: 0.3533 - val_acc: 0.8771\n",
            "Epoch 157/200\n",
            "134875/134875 [==============================] - 1s 8us/step - loss: 0.3312 - acc: 0.8814 - val_loss: 0.3535 - val_acc: 0.8769\n",
            "Epoch 158/200\n",
            "134875/134875 [==============================] - 1s 8us/step - loss: 0.3302 - acc: 0.8817 - val_loss: 0.3537 - val_acc: 0.8766\n",
            "Epoch 159/200\n",
            "134875/134875 [==============================] - 1s 8us/step - loss: 0.3296 - acc: 0.8817 - val_loss: 0.3536 - val_acc: 0.8768\n",
            "Epoch 160/200\n",
            "134875/134875 [==============================] - 1s 8us/step - loss: 0.3306 - acc: 0.8803 - val_loss: 0.3537 - val_acc: 0.8771\n",
            "Epoch 161/200\n",
            "134875/134875 [==============================] - 1s 8us/step - loss: 0.3283 - acc: 0.8822 - val_loss: 0.3541 - val_acc: 0.8763\n",
            "Epoch 162/200\n",
            "134875/134875 [==============================] - 1s 8us/step - loss: 0.3299 - acc: 0.8818 - val_loss: 0.3539 - val_acc: 0.8769\n",
            "Epoch 163/200\n",
            "134875/134875 [==============================] - 1s 8us/step - loss: 0.3297 - acc: 0.8803 - val_loss: 0.3535 - val_acc: 0.8774\n",
            "Epoch 164/200\n",
            "134875/134875 [==============================] - 1s 8us/step - loss: 0.3309 - acc: 0.8815 - val_loss: 0.3538 - val_acc: 0.8771\n",
            "Epoch 165/200\n",
            "134875/134875 [==============================] - 1s 8us/step - loss: 0.3297 - acc: 0.8813 - val_loss: 0.3544 - val_acc: 0.8765\n",
            "Epoch 166/200\n",
            "134875/134875 [==============================] - 1s 8us/step - loss: 0.3287 - acc: 0.8814 - val_loss: 0.3543 - val_acc: 0.8771\n",
            "Epoch 167/200\n",
            "134875/134875 [==============================] - 1s 8us/step - loss: 0.3290 - acc: 0.8815 - val_loss: 0.3535 - val_acc: 0.8775\n",
            "Epoch 168/200\n",
            "134875/134875 [==============================] - 1s 8us/step - loss: 0.3296 - acc: 0.8819 - val_loss: 0.3544 - val_acc: 0.8765\n",
            "Epoch 169/200\n",
            "134875/134875 [==============================] - 1s 8us/step - loss: 0.3289 - acc: 0.8823 - val_loss: 0.3535 - val_acc: 0.8771\n",
            "Epoch 170/200\n",
            "134875/134875 [==============================] - 1s 8us/step - loss: 0.3301 - acc: 0.8814 - val_loss: 0.3542 - val_acc: 0.8768\n",
            "Epoch 171/200\n",
            "134875/134875 [==============================] - 1s 8us/step - loss: 0.3305 - acc: 0.8819 - val_loss: 0.3534 - val_acc: 0.8773\n",
            "Epoch 172/200\n",
            "134875/134875 [==============================] - 1s 8us/step - loss: 0.3287 - acc: 0.8813 - val_loss: 0.3531 - val_acc: 0.8770\n",
            "Epoch 173/200\n",
            "134875/134875 [==============================] - 1s 8us/step - loss: 0.3290 - acc: 0.8819 - val_loss: 0.3541 - val_acc: 0.8772\n",
            "Epoch 174/200\n",
            "134875/134875 [==============================] - 1s 8us/step - loss: 0.3283 - acc: 0.8818 - val_loss: 0.3532 - val_acc: 0.8773\n",
            "Epoch 175/200\n",
            "134875/134875 [==============================] - 1s 8us/step - loss: 0.3279 - acc: 0.8823 - val_loss: 0.3533 - val_acc: 0.8773\n",
            "Epoch 176/200\n",
            "134875/134875 [==============================] - 1s 8us/step - loss: 0.3290 - acc: 0.8822 - val_loss: 0.3544 - val_acc: 0.8772\n",
            "Epoch 177/200\n",
            "134875/134875 [==============================] - 1s 8us/step - loss: 0.3288 - acc: 0.8823 - val_loss: 0.3532 - val_acc: 0.8775\n",
            "Epoch 178/200\n",
            "134875/134875 [==============================] - 1s 8us/step - loss: 0.3273 - acc: 0.8818 - val_loss: 0.3543 - val_acc: 0.8771\n",
            "Epoch 179/200\n",
            "134875/134875 [==============================] - 1s 8us/step - loss: 0.3270 - acc: 0.8820 - val_loss: 0.3539 - val_acc: 0.8775\n",
            "Epoch 180/200\n",
            "134875/134875 [==============================] - 1s 8us/step - loss: 0.3272 - acc: 0.8818 - val_loss: 0.3536 - val_acc: 0.8778\n",
            "Epoch 181/200\n",
            "134875/134875 [==============================] - 1s 8us/step - loss: 0.3268 - acc: 0.8819 - val_loss: 0.3535 - val_acc: 0.8774\n",
            "Epoch 182/200\n",
            "134875/134875 [==============================] - 1s 8us/step - loss: 0.3265 - acc: 0.8826 - val_loss: 0.3533 - val_acc: 0.8772\n",
            "Epoch 183/200\n",
            "134875/134875 [==============================] - 1s 8us/step - loss: 0.3280 - acc: 0.8821 - val_loss: 0.3536 - val_acc: 0.8771\n",
            "Epoch 184/200\n",
            "134875/134875 [==============================] - 1s 8us/step - loss: 0.3256 - acc: 0.8828 - val_loss: 0.3542 - val_acc: 0.8770\n",
            "Epoch 185/200\n",
            "134875/134875 [==============================] - 1s 8us/step - loss: 0.3261 - acc: 0.8826 - val_loss: 0.3543 - val_acc: 0.8771\n",
            "Epoch 186/200\n",
            "134875/134875 [==============================] - 1s 8us/step - loss: 0.3276 - acc: 0.8819 - val_loss: 0.3532 - val_acc: 0.8772\n",
            "Epoch 187/200\n",
            "134875/134875 [==============================] - 1s 8us/step - loss: 0.3275 - acc: 0.8824 - val_loss: 0.3538 - val_acc: 0.8774\n",
            "Epoch 188/200\n",
            "134875/134875 [==============================] - 1s 8us/step - loss: 0.3265 - acc: 0.8829 - val_loss: 0.3533 - val_acc: 0.8778\n",
            "Epoch 189/200\n",
            "134875/134875 [==============================] - 1s 8us/step - loss: 0.3276 - acc: 0.8821 - val_loss: 0.3532 - val_acc: 0.8777\n",
            "Epoch 190/200\n",
            "134875/134875 [==============================] - 1s 8us/step - loss: 0.3252 - acc: 0.8829 - val_loss: 0.3541 - val_acc: 0.8776\n",
            "Epoch 191/200\n",
            "134875/134875 [==============================] - 1s 8us/step - loss: 0.3271 - acc: 0.8824 - val_loss: 0.3534 - val_acc: 0.8774\n",
            "Epoch 192/200\n",
            "134875/134875 [==============================] - 1s 8us/step - loss: 0.3262 - acc: 0.8822 - val_loss: 0.3554 - val_acc: 0.8770\n",
            "Epoch 193/200\n",
            "134875/134875 [==============================] - 1s 8us/step - loss: 0.3256 - acc: 0.8823 - val_loss: 0.3535 - val_acc: 0.8773\n",
            "Epoch 194/200\n",
            "134875/134875 [==============================] - 1s 8us/step - loss: 0.3258 - acc: 0.8834 - val_loss: 0.3534 - val_acc: 0.8775\n",
            "Epoch 195/200\n",
            "134875/134875 [==============================] - 1s 8us/step - loss: 0.3267 - acc: 0.8824 - val_loss: 0.3536 - val_acc: 0.8773\n",
            "Epoch 196/200\n",
            "134875/134875 [==============================] - 1s 8us/step - loss: 0.3238 - acc: 0.8833 - val_loss: 0.3541 - val_acc: 0.8776\n",
            "Epoch 197/200\n",
            "134875/134875 [==============================] - 1s 8us/step - loss: 0.3254 - acc: 0.8828 - val_loss: 0.3539 - val_acc: 0.8772\n",
            "Epoch 198/200\n",
            "134875/134875 [==============================] - 1s 8us/step - loss: 0.3243 - acc: 0.8836 - val_loss: 0.3535 - val_acc: 0.8776\n",
            "Epoch 199/200\n",
            "134875/134875 [==============================] - 1s 8us/step - loss: 0.3237 - acc: 0.8823 - val_loss: 0.3541 - val_acc: 0.8774\n",
            "Epoch 200/200\n",
            "134875/134875 [==============================] - 1s 8us/step - loss: 0.3265 - acc: 0.8828 - val_loss: 0.3546 - val_acc: 0.8771\n"
          ],
          "name": "stdout"
        }
      ]
    },
    {
      "metadata": {
        "id": "MKgEmRyDvO9y",
        "colab_type": "code",
        "outputId": "bc110cc0-361f-4334-cab9-601e396421cd",
        "colab": {
          "base_uri": "https://localhost:8080/",
          "height": 54
        }
      },
      "cell_type": "code",
      "source": [
        "## test score\n",
        "test_score = model.evaluate(x_test, y_test, verbose = 0)\n",
        "print(\"Test loss:\", test_score[0])\n",
        "print(\"Test accuracy:\", test_score[1])\n",
        "pred_test = model.predict(x_test)"
      ],
      "execution_count": 0,
      "outputs": [
        {
          "output_type": "stream",
          "text": [
            "Test loss: 0.36554656698076143\n",
            "Test accuracy: 0.8747664549201872\n"
          ],
          "name": "stdout"
        }
      ]
    },
    {
      "metadata": {
        "id": "Zdkfy1ERv_gn",
        "colab_type": "code",
        "colab": {
          "base_uri": "https://localhost:8080/",
          "height": 361
        },
        "outputId": "dba33490-7761-4e65-a6b7-6ad7462a11da"
      },
      "cell_type": "code",
      "source": [
        "import matplotlib.pyplot as plt\n",
        "def show_history(history):\n",
        "    plt.plot(history.history['acc'])\n",
        "    plt.plot(history.history['val_acc'])\n",
        "    plt.ylabel('accuracy')\n",
        "    plt.xlabel('epoch')\n",
        "    plt.legend(['train_accuracy', 'test_accuracy'], loc='best')\n",
        "    plt.show()\n",
        "\n",
        "show_history(train_model)"
      ],
      "execution_count": 11,
      "outputs": [
        {
          "output_type": "display_data",
          "data": {
            "image/png": "[encoded data removed]",
            "text/plain": [
              "<matplotlib.figure.Figure at 0x7f685004be10>"
            ]
          },
          "metadata": {
            "tags": []
          }
        }
      ]
    },
    {
      "metadata": {
        "id": "lW0RBuN1loTH",
        "colab_type": "code",
        "outputId": "725f7254-7d11-4fb6-99b3-6a3d6367f957",
        "colab": {
          "base_uri": "https://localhost:8080/",
          "height": 428
        }
      },
      "cell_type": "code",
      "source": [
        "import seaborn as sn\n",
        "import matplotlib.pyplot as plt\n",
        "from sklearn.metrics import confusion_matrix\n",
        "\n",
        "def print_cmx(y_true, y_pred):\n",
        "    labels = sorted(list(set(y_true)))\n",
        "    cmx_data = confusion_matrix(y_true, y_pred, labels=labels)\n",
        "    \n",
        "    df_cmx = pd.DataFrame(cmx_data, index=labels, columns=labels)\n",
        "\n",
        "    plt.figure(figsize = (10,7))\n",
        "    sn.heatmap(df_cmx, annot=True)\n",
        "    plt.show()\n",
        "\n",
        "from sklearn.metrics import classification_report, accuracy_score\n",
        "a = np.argmax(y_test, axis = 1)\n",
        "b = np.argmax(pred_test, axis = 1)\n",
        "print_cmx(a, b)"
      ],
      "execution_count": 0,
      "outputs": [
        {
          "output_type": "display_data",
          "data": {
            "image/png": "[encoded data removed]",
            "text/plain": [
              "<matplotlib.figure.Figure at 0x7f2544c56f98>"
            ]
          },
          "metadata": {
            "tags": []
          }
        }
      ]
    },
    {
      "metadata": {
        "id": "ZnaJV0xwQNeu",
        "colab_type": "code",
        "outputId": "e512bac8-4a68-408e-952b-3b421f5f2a66",
        "colab": {
          "base_uri": "https://localhost:8080/",
          "height": 35
        }
      },
      "cell_type": "code",
      "source": [
        "## KNN+CNN 85.93%\n",
        "pred_train = model.predict(x_valid)\n",
        "pred_test = model.predict(x_test)\n",
        "from sklearn.neighbors import KNeighborsClassifier\n",
        "# make models\n",
        "knn_128 = KNeighborsClassifier(n_neighbors=128)\n",
        "\n",
        "knn_128.fit(pred_train, y_valid)\n",
        "\n",
        "kn_128_pr = knn_128.predict(pred_test)\n",
        "\n",
        "from sklearn.metrics import accuracy_score\n",
        "\n",
        "val = str(pow(2, 7))\n",
        "eval(\"print(\\\"k=\" + val + \":{}\\\".format(accuracy_score(kn_\" + val + \"_pr, y_test)))\")"
      ],
      "execution_count": 0,
      "outputs": [
        {
          "output_type": "stream",
          "text": [
            "k=128:0.8593213402373707\n"
          ],
          "name": "stdout"
        }
      ]
    },
    {
      "metadata": {
        "id": "yomw67JTeD5t",
        "colab_type": "code",
        "colab": {}
      },
      "cell_type": "code",
      "source": [
        "x_train = x_train.reshape(-1,100,1)\n",
        "x_valid = x_valid.reshape(-1,100,1)\n",
        "x_test = x_test.reshape(-1,100,1)"
      ],
      "execution_count": 0,
      "outputs": []
    },
    {
      "metadata": {
        "id": "zkH2qFstLZiY",
        "colab_type": "code",
        "outputId": "a00fb519-d0a4-4ed8-b6b6-e23ebd9714dd",
        "colab": {
          "base_uri": "https://localhost:8080/",
          "height": 514
        }
      },
      "cell_type": "code",
      "source": [
        "## CNN 87.17%\n",
        "model2 = Sequential()\n",
        "model2.add(Conv1D(128, 3, activation = \"relu\", use_bias = False, padding = \"same\", input_shape = (100,1)))\n",
        "model2.add(BatchNormalization())\n",
        "model2.add(MaxPooling1D(2))\n",
        "model2.add(Conv1D(256, 3, activation = \"relu\", use_bias = False, padding = \"same\"))\n",
        "model2.add(BatchNormalization())\n",
        "model2.add(MaxPooling1D(2))\n",
        "model2.add(Flatten())\n",
        "model2.add(Dense(1024, activation = \"relu\"))\n",
        "model2.add(Dropout(0.6))\n",
        "model2.add(Dense(num_classes, activation = \"softmax\"))\n",
        "model2.compile(loss = \"categorical_crossentropy\", optimizer = \"adadelta\", metrics = [\"acc\"])\n",
        "model2.summary()"
      ],
      "execution_count": 13,
      "outputs": [
        {
          "output_type": "stream",
          "text": [
            "_________________________________________________________________\n",
            "Layer (type)                 Output Shape              Param #   \n",
            "=================================================================\n",
            "conv1d_1 (Conv1D)            (None, 100, 128)          384       \n",
            "_________________________________________________________________\n",
            "batch_normalization_1 (Batch (None, 100, 128)          512       \n",
            "_________________________________________________________________\n",
            "max_pooling1d_1 (MaxPooling1 (None, 50, 128)           0         \n",
            "_________________________________________________________________\n",
            "conv1d_2 (Conv1D)            (None, 50, 256)           98304     \n",
            "_________________________________________________________________\n",
            "batch_normalization_2 (Batch (None, 50, 256)           1024      \n",
            "_________________________________________________________________\n",
            "max_pooling1d_2 (MaxPooling1 (None, 25, 256)           0         \n",
            "_________________________________________________________________\n",
            "flatten_1 (Flatten)          (None, 6400)              0         \n",
            "_________________________________________________________________\n",
            "dense_3 (Dense)              (None, 1024)              6554624   \n",
            "_________________________________________________________________\n",
            "dropout_2 (Dropout)          (None, 1024)              0         \n",
            "_________________________________________________________________\n",
            "dense_4 (Dense)              (None, 5)                 5125      \n",
            "=================================================================\n",
            "Total params: 6,659,973\n",
            "Trainable params: 6,659,205\n",
            "Non-trainable params: 768\n",
            "_________________________________________________________________\n"
          ],
          "name": "stdout"
        }
      ]
    },
    {
      "metadata": {
        "id": "uIEh2RU1V1J4",
        "colab_type": "code",
        "outputId": "f0a64c15-160b-4a19-d9b3-6a21591c52de",
        "colab": {
          "base_uri": "https://localhost:8080/",
          "height": 1875
        }
      },
      "cell_type": "code",
      "source": [
        "train_model2 = model2.fit(x_train, y_train, epochs = 50, batch_size = 2048, verbose = 1, validation_data = (x_valid, y_valid))"
      ],
      "execution_count": 14,
      "outputs": [
        {
          "output_type": "stream",
          "text": [
            "Train on 134875 samples, validate on 89918 samples\n",
            "Epoch 1/50\n",
            "134875/134875 [==============================] - 19s 144us/step - loss: 1.2908 - acc: 0.7559 - val_loss: 0.4708 - val_acc: 0.8308\n",
            "Epoch 2/50\n",
            "134875/134875 [==============================] - 16s 118us/step - loss: 0.4817 - acc: 0.8287 - val_loss: 0.4405 - val_acc: 0.8434\n",
            "Epoch 3/50\n",
            "134875/134875 [==============================] - 16s 119us/step - loss: 0.4218 - acc: 0.8472 - val_loss: 0.4445 - val_acc: 0.8394\n",
            "Epoch 4/50\n",
            "134875/134875 [==============================] - 16s 119us/step - loss: 0.3893 - acc: 0.8584 - val_loss: 0.4090 - val_acc: 0.8558\n",
            "Epoch 5/50\n",
            "134875/134875 [==============================] - 16s 119us/step - loss: 0.3582 - acc: 0.8693 - val_loss: 0.3794 - val_acc: 0.8634\n",
            "Epoch 6/50\n",
            "134875/134875 [==============================] - 16s 119us/step - loss: 0.3253 - acc: 0.8804 - val_loss: 0.3922 - val_acc: 0.8615\n",
            "Epoch 7/50\n",
            "134875/134875 [==============================] - 16s 119us/step - loss: 0.3040 - acc: 0.8874 - val_loss: 0.3788 - val_acc: 0.8654\n",
            "Epoch 8/50\n",
            "134875/134875 [==============================] - 16s 119us/step - loss: 0.2792 - acc: 0.8966 - val_loss: 0.3951 - val_acc: 0.8647\n",
            "Epoch 9/50\n",
            "134875/134875 [==============================] - 16s 119us/step - loss: 0.2575 - acc: 0.9052 - val_loss: 0.3773 - val_acc: 0.8679\n",
            "Epoch 10/50\n",
            "134875/134875 [==============================] - 16s 119us/step - loss: 0.2319 - acc: 0.9150 - val_loss: 0.3922 - val_acc: 0.8672\n",
            "Epoch 11/50\n",
            "134875/134875 [==============================] - 16s 119us/step - loss: 0.2118 - acc: 0.9216 - val_loss: 0.4023 - val_acc: 0.8683\n",
            "Epoch 12/50\n",
            "134875/134875 [==============================] - 16s 119us/step - loss: 0.1919 - acc: 0.9296 - val_loss: 0.4034 - val_acc: 0.8681\n",
            "Epoch 13/50\n",
            "134875/134875 [==============================] - 16s 118us/step - loss: 0.1772 - acc: 0.9346 - val_loss: 0.4192 - val_acc: 0.8680\n",
            "Epoch 14/50\n",
            "134875/134875 [==============================] - 16s 118us/step - loss: 0.1557 - acc: 0.9424 - val_loss: 0.4380 - val_acc: 0.8656\n",
            "Epoch 15/50\n",
            "134875/134875 [==============================] - 16s 118us/step - loss: 0.1415 - acc: 0.9472 - val_loss: 0.4551 - val_acc: 0.8686\n",
            "Epoch 16/50\n",
            "134875/134875 [==============================] - 16s 118us/step - loss: 0.1290 - acc: 0.9532 - val_loss: 0.4623 - val_acc: 0.8667\n",
            "Epoch 17/50\n",
            "134875/134875 [==============================] - 16s 119us/step - loss: 0.1162 - acc: 0.9578 - val_loss: 0.4783 - val_acc: 0.8685\n",
            "Epoch 18/50\n",
            "134875/134875 [==============================] - 16s 118us/step - loss: 0.1060 - acc: 0.9612 - val_loss: 0.4957 - val_acc: 0.8671\n",
            "Epoch 19/50\n",
            "134875/134875 [==============================] - 16s 118us/step - loss: 0.0980 - acc: 0.9643 - val_loss: 0.5292 - val_acc: 0.8669\n",
            "Epoch 20/50\n",
            "134875/134875 [==============================] - 16s 119us/step - loss: 0.0895 - acc: 0.9678 - val_loss: 0.5036 - val_acc: 0.8666\n",
            "Epoch 21/50\n",
            "134875/134875 [==============================] - 16s 119us/step - loss: 0.0818 - acc: 0.9707 - val_loss: 0.5184 - val_acc: 0.8679\n",
            "Epoch 22/50\n",
            "134875/134875 [==============================] - 16s 119us/step - loss: 0.0761 - acc: 0.9730 - val_loss: 0.5542 - val_acc: 0.8678\n",
            "Epoch 23/50\n",
            "134875/134875 [==============================] - 16s 119us/step - loss: 0.0729 - acc: 0.9742 - val_loss: 0.5398 - val_acc: 0.8660\n",
            "Epoch 24/50\n",
            "134875/134875 [==============================] - 16s 119us/step - loss: 0.0688 - acc: 0.9752 - val_loss: 0.5539 - val_acc: 0.8674\n",
            "Epoch 25/50\n",
            "134875/134875 [==============================] - 16s 119us/step - loss: 0.0630 - acc: 0.9776 - val_loss: 0.5746 - val_acc: 0.8671\n",
            "Epoch 26/50\n",
            "134875/134875 [==============================] - 16s 118us/step - loss: 0.0592 - acc: 0.9792 - val_loss: 0.5714 - val_acc: 0.8682\n",
            "Epoch 27/50\n",
            "134875/134875 [==============================] - 16s 118us/step - loss: 0.0543 - acc: 0.9804 - val_loss: 0.6039 - val_acc: 0.8688\n",
            "Epoch 28/50\n",
            "134875/134875 [==============================] - 16s 119us/step - loss: 0.0536 - acc: 0.9813 - val_loss: 0.5871 - val_acc: 0.8670\n",
            "Epoch 29/50\n",
            "134875/134875 [==============================] - 16s 118us/step - loss: 0.0515 - acc: 0.9818 - val_loss: 0.6146 - val_acc: 0.8683\n",
            "Epoch 30/50\n",
            "134875/134875 [==============================] - 16s 119us/step - loss: 0.0481 - acc: 0.9832 - val_loss: 0.5966 - val_acc: 0.8681\n",
            "Epoch 31/50\n",
            "134875/134875 [==============================] - 16s 118us/step - loss: 0.0450 - acc: 0.9848 - val_loss: 0.6148 - val_acc: 0.8677\n",
            "Epoch 32/50\n",
            "134875/134875 [==============================] - 16s 118us/step - loss: 0.0442 - acc: 0.9844 - val_loss: 0.6473 - val_acc: 0.8677\n",
            "Epoch 33/50\n",
            "134875/134875 [==============================] - 16s 119us/step - loss: 0.0417 - acc: 0.9857 - val_loss: 0.6286 - val_acc: 0.8680\n",
            "Epoch 34/50\n",
            "134875/134875 [==============================] - 16s 119us/step - loss: 0.0411 - acc: 0.9859 - val_loss: 0.6702 - val_acc: 0.8683\n",
            "Epoch 35/50\n",
            "134875/134875 [==============================] - 16s 119us/step - loss: 0.0393 - acc: 0.9864 - val_loss: 0.6783 - val_acc: 0.8677\n",
            "Epoch 36/50\n",
            "134875/134875 [==============================] - 16s 119us/step - loss: 0.0368 - acc: 0.9873 - val_loss: 0.7037 - val_acc: 0.8678\n",
            "Epoch 37/50\n",
            "134875/134875 [==============================] - 16s 119us/step - loss: 0.0363 - acc: 0.9874 - val_loss: 0.6877 - val_acc: 0.8682\n",
            "Epoch 38/50\n",
            "134875/134875 [==============================] - 16s 118us/step - loss: 0.0347 - acc: 0.9880 - val_loss: 0.7006 - val_acc: 0.8677\n",
            "Epoch 39/50\n",
            "134875/134875 [==============================] - 16s 118us/step - loss: 0.0339 - acc: 0.9884 - val_loss: 0.6967 - val_acc: 0.8674\n",
            "Epoch 40/50\n",
            "134875/134875 [==============================] - 16s 118us/step - loss: 0.0311 - acc: 0.9892 - val_loss: 0.6880 - val_acc: 0.8674\n",
            "Epoch 41/50\n",
            "134875/134875 [==============================] - 16s 118us/step - loss: 0.0313 - acc: 0.9892 - val_loss: 0.7449 - val_acc: 0.8686\n",
            "Epoch 42/50\n",
            "134875/134875 [==============================] - 16s 119us/step - loss: 0.0296 - acc: 0.9896 - val_loss: 0.7307 - val_acc: 0.8670\n",
            "Epoch 43/50\n",
            "134875/134875 [==============================] - 16s 118us/step - loss: 0.0264 - acc: 0.9907 - val_loss: 0.7023 - val_acc: 0.8679\n",
            "Epoch 44/50\n",
            "134875/134875 [==============================] - 16s 118us/step - loss: 0.0272 - acc: 0.9905 - val_loss: 0.7536 - val_acc: 0.8687\n",
            "Epoch 45/50\n",
            "134875/134875 [==============================] - 16s 118us/step - loss: 0.0253 - acc: 0.9915 - val_loss: 0.7372 - val_acc: 0.8679\n",
            "Epoch 46/50\n",
            "134875/134875 [==============================] - 16s 118us/step - loss: 0.0257 - acc: 0.9909 - val_loss: 0.7143 - val_acc: 0.8677\n",
            "Epoch 47/50\n",
            "134875/134875 [==============================] - 16s 119us/step - loss: 0.0247 - acc: 0.9915 - val_loss: 0.7372 - val_acc: 0.8677\n",
            "Epoch 48/50\n",
            "134875/134875 [==============================] - 16s 118us/step - loss: 0.0248 - acc: 0.9910 - val_loss: 0.7676 - val_acc: 0.8681\n",
            "Epoch 49/50\n",
            "134875/134875 [==============================] - 16s 119us/step - loss: 0.0236 - acc: 0.9919 - val_loss: 0.7741 - val_acc: 0.8673\n",
            "Epoch 50/50\n",
            "134875/134875 [==============================] - 16s 119us/step - loss: 0.0232 - acc: 0.9920 - val_loss: 0.7817 - val_acc: 0.8686\n"
          ],
          "name": "stdout"
        }
      ]
    },
    {
      "metadata": {
        "id": "RjqdqL7BjbQj",
        "colab_type": "code",
        "outputId": "be02bdea-4715-41fe-cad6-bd02ea9e377f",
        "colab": {
          "base_uri": "https://localhost:8080/",
          "height": 35
        }
      },
      "cell_type": "code",
      "source": [
        "pred2_train = model2.predict(x_valid)\n",
        "pred2_test = model2.predict(x_test)\n",
        "from sklearn.neighbors import KNeighborsClassifier\n",
        "# make models\n",
        "knn_128 = KNeighborsClassifier(n_neighbors=128)\n",
        "\n",
        "knn_128.fit(pred2_train, y_valid)\n",
        "\n",
        "kn_128_pr = knn_128.predict(pred2_test)\n",
        "\n",
        "from sklearn.metrics import accuracy_score\n",
        "\n",
        "val = str(pow(2, 7))\n",
        "eval(\"print(\\\"k=\" + val + \":{}\\\".format(accuracy_score(kn_\" + val + \"_pr, y_test)))\")"
      ],
      "execution_count": 15,
      "outputs": [
        {
          "output_type": "stream",
          "text": [
            "k=128:0.8458869374899909\n"
          ],
          "name": "stdout"
        }
      ]
    },
    {
      "metadata": {
        "id": "5qukoxMsYznF",
        "colab_type": "code",
        "outputId": "c77115fc-4142-4845-bf49-f8829d80ce55",
        "colab": {
          "base_uri": "https://localhost:8080/",
          "height": 398
        }
      },
      "cell_type": "code",
      "source": [
        "## test score\n",
        "test_score2 = model2.evaluate(x_test, y_test, verbose = 0)\n",
        "print(\"Test loss:\", test_score2[0])\n",
        "print(\"Test accuracy:\", test_score2[1])\n",
        "show_history(train_model2)"
      ],
      "execution_count": 16,
      "outputs": [
        {
          "output_type": "stream",
          "text": [
            "Test loss: 0.810876468507035\n",
            "Test accuracy: 0.8656025907944911\n"
          ],
          "name": "stdout"
        },
        {
          "output_type": "display_data",
          "data": {
            "image/png": "[encoded data removed]",
            "text/plain": [
              "<matplotlib.figure.Figure at 0x7f683b4d9d30>"
            ]
          },
          "metadata": {
            "tags": []
          }
        }
      ]
    },
    {
      "metadata": {
        "id": "75w79o69G4U6",
        "colab_type": "code",
        "colab": {}
      },
      "cell_type": "code",
      "source": [
        "X_train = x_train.reshape(-1,10,10,1)\n",
        "X_valid = x_valid.reshape(-1,10,10,1)\n",
        "X_test = x_test.reshape(-1,10,10,1)\n",
        "del x_train\n",
        "del x_valid\n",
        "del x_test"
      ],
      "execution_count": 0,
      "outputs": []
    },
    {
      "metadata": {
        "id": "7GItzjQU-xgg",
        "colab_type": "code",
        "colab": {}
      },
      "cell_type": "code",
      "source": [
        "def img_resize(data, d):\n",
        "  data = np.asarray([cv2.resize(x, (d,d)) for x in data])\n",
        "  data = data.reshape(-1, d, d, 1)\n",
        "  return data.repeat(3, axis = -1)\n",
        "\n",
        "x_train_32 = img_resize(X_train, 32)\n",
        "x_valid_32 = img_resize(X_valid, 32)\n",
        "x_test_32 = img_resize(X_test, 32)\n",
        "#del x_train_32\n",
        "#del x_valid_32\n",
        "#del x_test_32\n",
        "\n",
        "#x_train_75 = img_resize(X_train, 75)\n",
        "#x_valid_75 = img_resize(X_valid, 75)\n",
        "#x_test_75 = img_resize(X_test, 75)"
      ],
      "execution_count": 0,
      "outputs": []
    },
    {
      "metadata": {
        "id": "NmGmrpmLBxCr",
        "colab_type": "code",
        "outputId": "3747d7fb-a1fc-4cc9-ba34-055a19f7585f",
        "colab": {
          "base_uri": "https://localhost:8080/",
          "height": 330
        }
      },
      "cell_type": "code",
      "source": [
        "## Pre-trained VGG16\n",
        "conv_base = VGG16(weights = \"imagenet\", include_top = False, input_shape = (32, 32, 3))\n",
        "model3 = Sequential()\n",
        "model3.add(conv_base)\n",
        "model3.add(Flatten())\n",
        "model3.add(Dense(512, activation = \"relu\"))\n",
        "model3.add(Dropout(0.6))\n",
        "model3.add(Dense(num_classes, activation = \"softmax\"))\n",
        "model3.compile(loss = \"categorical_crossentropy\", optimizer = \"adam\", metrics = [\"acc\"])\n",
        "model3.summary()"
      ],
      "execution_count": 0,
      "outputs": [
        {
          "output_type": "stream",
          "text": [
            "_________________________________________________________________\n",
            "Layer (type)                 Output Shape              Param #   \n",
            "=================================================================\n",
            "vgg16 (Model)                (None, 1, 1, 512)         14714688  \n",
            "_________________________________________________________________\n",
            "flatten_3 (Flatten)          (None, 512)               0         \n",
            "_________________________________________________________________\n",
            "dense_20 (Dense)             (None, 512)               262656    \n",
            "_________________________________________________________________\n",
            "dropout_15 (Dropout)         (None, 512)               0         \n",
            "_________________________________________________________________\n",
            "dense_21 (Dense)             (None, 5)                 2565      \n",
            "=================================================================\n",
            "Total params: 14,979,909\n",
            "Trainable params: 14,979,909\n",
            "Non-trainable params: 0\n",
            "_________________________________________________________________\n"
          ],
          "name": "stdout"
        }
      ]
    },
    {
      "metadata": {
        "id": "6SoNselPC5ew",
        "colab_type": "code",
        "outputId": "a52acc91-9802-4e12-9355-a450dfae31a5",
        "colab": {
          "base_uri": "https://localhost:8080/",
          "height": 403
        }
      },
      "cell_type": "code",
      "source": [
        "train_model3 = model3.fit(x_train_32, y_train, batch_size = 256, epochs = 10, validation_data = (x_valid_32, y_valid))"
      ],
      "execution_count": 0,
      "outputs": [
        {
          "output_type": "stream",
          "text": [
            "Train on 134875 samples, validate on 89918 samples\n",
            "Epoch 1/10\n",
            "134875/134875 [==============================] - 143s 1ms/step - loss: 0.8358 - acc: 0.7043 - val_loss: 0.6035 - val_acc: 0.7865\n",
            "Epoch 2/10\n",
            "134875/134875 [==============================] - 140s 1ms/step - loss: 0.5395 - acc: 0.8135 - val_loss: 0.4994 - val_acc: 0.8274\n",
            "Epoch 3/10\n",
            "134875/134875 [==============================] - 139s 1ms/step - loss: 0.4718 - acc: 0.8361 - val_loss: 0.4475 - val_acc: 0.8444\n",
            "Epoch 4/10\n",
            "134875/134875 [==============================] - 140s 1ms/step - loss: 0.4326 - acc: 0.8477 - val_loss: 0.4779 - val_acc: 0.8400\n",
            "Epoch 5/10\n",
            "134875/134875 [==============================] - 140s 1ms/step - loss: 0.4051 - acc: 0.8581 - val_loss: 0.4159 - val_acc: 0.8519\n",
            "Epoch 6/10\n",
            "134875/134875 [==============================] - 141s 1ms/step - loss: 0.3816 - acc: 0.8662 - val_loss: 0.4240 - val_acc: 0.8533\n",
            "Epoch 7/10\n",
            "134875/134875 [==============================] - 140s 1ms/step - loss: 0.3587 - acc: 0.8736 - val_loss: 0.4269 - val_acc: 0.8486\n",
            "Epoch 8/10\n",
            "134875/134875 [==============================] - 139s 1ms/step - loss: 0.3408 - acc: 0.8805 - val_loss: 0.4391 - val_acc: 0.8550\n",
            "Epoch 9/10\n",
            "134875/134875 [==============================] - 139s 1ms/step - loss: 0.3138 - acc: 0.8897 - val_loss: 0.4346 - val_acc: 0.8531\n",
            "Epoch 10/10\n",
            "134875/134875 [==============================] - 139s 1ms/step - loss: 0.2886 - acc: 0.8991 - val_loss: 0.4409 - val_acc: 0.8486\n"
          ],
          "name": "stdout"
        }
      ]
    },
    {
      "metadata": {
        "id": "zRltqD3JIc8F",
        "colab_type": "code",
        "outputId": "e0b124cd-99bd-4fb7-f779-0ec40f168f4f",
        "colab": {
          "base_uri": "https://localhost:8080/",
          "height": 54
        }
      },
      "cell_type": "code",
      "source": [
        "test_score3 = model3.evaluate(x_test_32, y_test, verbose = 0)\n",
        "print(\"Test loss:\", test_score3[0])\n",
        "print(\"Test accuracy:\", test_score3[1])"
      ],
      "execution_count": 0,
      "outputs": [
        {
          "output_type": "stream",
          "text": [
            "Test loss: 0.449897948395907\n",
            "Test accuracy: 0.8462250217986015\n"
          ],
          "name": "stdout"
        }
      ]
    },
    {
      "metadata": {
        "id": "zDuKLBJUdwKN",
        "colab_type": "code",
        "outputId": "806af230-b33d-4957-c604-d6e1358e759a",
        "colab": {
          "base_uri": "https://localhost:8080/",
          "height": 366
        }
      },
      "cell_type": "code",
      "source": [
        "## Pre-trained VGG19\n",
        "conv_base2 = VGG19(weights = \"imagenet\", include_top = False, input_shape = (32, 32, 3))\n",
        "model4 = Sequential()\n",
        "model4.add(conv_base2)\n",
        "model4.add(Flatten())\n",
        "model4.add(Dense(512, activation = \"relu\"))\n",
        "model4.add(Dropout(0.6))\n",
        "model4.add(Dense(num_classes, activation = \"softmax\"))\n",
        "model4.compile(loss = \"categorical_crossentropy\", optimizer = \"adam\", metrics = [\"acc\"])\n",
        "model4.summary()"
      ],
      "execution_count": 0,
      "outputs": [
        {
          "output_type": "stream",
          "text": [
            "Downloading data from https://github.com/fchollet/deep-learning-models/releases/download/v0.1/vgg19_weights_tf_dim_ordering_tf_kernels_notop.h5\n",
            "80142336/80134624 [==============================] - 1s 0us/step\n",
            "_________________________________________________________________\n",
            "Layer (type)                 Output Shape              Param #   \n",
            "=================================================================\n",
            "vgg19 (Model)                (None, 1, 1, 512)         20024384  \n",
            "_________________________________________________________________\n",
            "flatten_4 (Flatten)          (None, 512)               0         \n",
            "_________________________________________________________________\n",
            "dense_22 (Dense)             (None, 512)               262656    \n",
            "_________________________________________________________________\n",
            "dropout_16 (Dropout)         (None, 512)               0         \n",
            "_________________________________________________________________\n",
            "dense_23 (Dense)             (None, 5)                 2565      \n",
            "=================================================================\n",
            "Total params: 20,289,605\n",
            "Trainable params: 20,289,605\n",
            "Non-trainable params: 0\n",
            "_________________________________________________________________\n"
          ],
          "name": "stdout"
        }
      ]
    },
    {
      "metadata": {
        "id": "1wAd1ZTcd80g",
        "colab_type": "code",
        "outputId": "c040941d-412e-4619-cab0-aa2c210d1f59",
        "colab": {
          "base_uri": "https://localhost:8080/",
          "height": 403
        }
      },
      "cell_type": "code",
      "source": [
        "train_model4 = model4.fit(x_train_32, y_train, batch_size = 256, epochs = 10, validation_data = (x_valid_32, y_valid))"
      ],
      "execution_count": 0,
      "outputs": [
        {
          "output_type": "stream",
          "text": [
            "Train on 134875 samples, validate on 89918 samples\n",
            "Epoch 1/10\n",
            "134875/134875 [==============================] - 173s 1ms/step - loss: 0.8597 - acc: 0.6944 - val_loss: 0.6209 - val_acc: 0.7775\n",
            "Epoch 2/10\n",
            "134875/134875 [==============================] - 168s 1ms/step - loss: 0.6046 - acc: 0.7847 - val_loss: 0.5826 - val_acc: 0.7934\n",
            "Epoch 3/10\n",
            "134875/134875 [==============================] - 168s 1ms/step - loss: 0.5465 - acc: 0.8141 - val_loss: 0.5354 - val_acc: 0.8205\n",
            "Epoch 4/10\n",
            "134875/134875 [==============================] - 169s 1ms/step - loss: 0.5035 - acc: 0.8303 - val_loss: 0.4804 - val_acc: 0.8374\n",
            "Epoch 5/10\n",
            "134875/134875 [==============================] - 169s 1ms/step - loss: 0.4482 - acc: 0.8453 - val_loss: 0.4431 - val_acc: 0.8457\n",
            "Epoch 6/10\n",
            "134875/134875 [==============================] - 168s 1ms/step - loss: 0.4222 - acc: 0.8535 - val_loss: 0.4391 - val_acc: 0.8466\n",
            "Epoch 7/10\n",
            "134875/134875 [==============================] - 168s 1ms/step - loss: 0.4014 - acc: 0.8607 - val_loss: 0.4575 - val_acc: 0.8492\n",
            "Epoch 8/10\n",
            "134875/134875 [==============================] - 168s 1ms/step - loss: 0.3959 - acc: 0.8627 - val_loss: 0.4400 - val_acc: 0.8466\n",
            "Epoch 9/10\n",
            "134875/134875 [==============================] - 169s 1ms/step - loss: 0.3633 - acc: 0.8742 - val_loss: 0.4427 - val_acc: 0.8566\n",
            "Epoch 10/10\n",
            "134875/134875 [==============================] - 169s 1ms/step - loss: 0.3597 - acc: 0.8747 - val_loss: 0.4294 - val_acc: 0.8519\n"
          ],
          "name": "stdout"
        }
      ]
    },
    {
      "metadata": {
        "id": "9dD7IowfeDTf",
        "colab_type": "code",
        "outputId": "e3833808-c7f7-43f0-b9d3-ea7f90c808bf",
        "colab": {
          "base_uri": "https://localhost:8080/",
          "height": 54
        }
      },
      "cell_type": "code",
      "source": [
        "test_score4 = model4.evaluate(x_test_32, y_test, verbose = 0)\n",
        "print(\"Test loss:\", test_score4[0])\n",
        "print(\"Test accuracy:\", test_score4[1])"
      ],
      "execution_count": 0,
      "outputs": [
        {
          "output_type": "stream",
          "text": [
            "Test loss: 0.44145899839457586\n",
            "Test accuracy: 0.84955248314133\n"
          ],
          "name": "stdout"
        }
      ]
    },
    {
      "metadata": {
        "id": "vOVuH8U7eY_i",
        "colab_type": "code",
        "outputId": "55ed2977-68bc-44d6-9fb0-1e4442929a54",
        "colab": {
          "base_uri": "https://localhost:8080/",
          "height": 386
        }
      },
      "cell_type": "code",
      "source": [
        "## Pre-trained ResNet50\n",
        "conv_base3 = ResNet50(weights = \"imagenet\", include_top = False, input_shape = (32, 32, 3))\n",
        "model5 = Sequential()\n",
        "model5.add(conv_base3)\n",
        "model5.add(Flatten())\n",
        "model5.add(Dense(512, activation = \"relu\"))\n",
        "model5.add(Dropout(0.6))\n",
        "model5.add(Dense(num_classes, activation = \"softmax\"))\n",
        "model5.compile(loss = \"categorical_crossentropy\", optimizer = \"adam\", metrics = [\"acc\"])\n",
        "model5.summary()"
      ],
      "execution_count": 0,
      "outputs": [
        {
          "output_type": "stream",
          "text": [
            "/usr/local/lib/python3.6/dist-packages/keras_applications/resnet50.py:265: UserWarning: The output shape of `ResNet50(include_top=False)` has been changed since Keras 2.2.0.\n",
            "  warnings.warn('The output shape of `ResNet50(include_top=False)` '\n"
          ],
          "name": "stderr"
        },
        {
          "output_type": "stream",
          "text": [
            "_________________________________________________________________\n",
            "Layer (type)                 Output Shape              Param #   \n",
            "=================================================================\n",
            "resnet50 (Model)             (None, 1, 1, 2048)        23587712  \n",
            "_________________________________________________________________\n",
            "flatten_5 (Flatten)          (None, 2048)              0         \n",
            "_________________________________________________________________\n",
            "dense_24 (Dense)             (None, 512)               1049088   \n",
            "_________________________________________________________________\n",
            "dropout_17 (Dropout)         (None, 512)               0         \n",
            "_________________________________________________________________\n",
            "dense_25 (Dense)             (None, 5)                 2565      \n",
            "=================================================================\n",
            "Total params: 24,639,365\n",
            "Trainable params: 24,586,245\n",
            "Non-trainable params: 53,120\n",
            "_________________________________________________________________\n"
          ],
          "name": "stdout"
        }
      ]
    },
    {
      "metadata": {
        "id": "DdEc3j1SeiGk",
        "colab_type": "code",
        "outputId": "91517ba6-a782-468e-a86b-967e507aa81e",
        "colab": {
          "base_uri": "https://localhost:8080/",
          "height": 403
        }
      },
      "cell_type": "code",
      "source": [
        "train_model5 = model5.fit(x_train_32, y_train, batch_size = 256, epochs = 10, validation_data = (x_valid_32, y_valid))"
      ],
      "execution_count": 0,
      "outputs": [
        {
          "output_type": "stream",
          "text": [
            "Train on 134875 samples, validate on 89918 samples\n",
            "Epoch 1/10\n",
            "134875/134875 [==============================] - 247s 2ms/step - loss: 0.6807 - acc: 0.7713 - val_loss: 0.5381 - val_acc: 0.8104\n",
            "Epoch 2/10\n",
            "134875/134875 [==============================] - 220s 2ms/step - loss: 0.4996 - acc: 0.8204 - val_loss: 0.4540 - val_acc: 0.8364\n",
            "Epoch 3/10\n",
            "134875/134875 [==============================] - 221s 2ms/step - loss: 0.4357 - acc: 0.8434 - val_loss: 0.4330 - val_acc: 0.8460\n",
            "Epoch 4/10\n",
            "134875/134875 [==============================] - 223s 2ms/step - loss: 0.4036 - acc: 0.8554 - val_loss: 0.4222 - val_acc: 0.8500\n",
            "Epoch 5/10\n",
            "134875/134875 [==============================] - 220s 2ms/step - loss: 0.3749 - acc: 0.8658 - val_loss: 0.4260 - val_acc: 0.8505\n",
            "Epoch 6/10\n",
            "134875/134875 [==============================] - 221s 2ms/step - loss: 0.3516 - acc: 0.8736 - val_loss: 0.4270 - val_acc: 0.8521\n",
            "Epoch 7/10\n",
            "134875/134875 [==============================] - 222s 2ms/step - loss: 0.3294 - acc: 0.8812 - val_loss: 0.4130 - val_acc: 0.8550\n",
            "Epoch 8/10\n",
            "134875/134875 [==============================] - 221s 2ms/step - loss: 0.3111 - acc: 0.8870 - val_loss: 0.4727 - val_acc: 0.8311\n",
            "Epoch 9/10\n",
            "134875/134875 [==============================] - 219s 2ms/step - loss: 0.2860 - acc: 0.8969 - val_loss: 0.4279 - val_acc: 0.8525\n",
            "Epoch 10/10\n",
            "134875/134875 [==============================] - 221s 2ms/step - loss: 0.2580 - acc: 0.9065 - val_loss: 0.4673 - val_acc: 0.8533\n"
          ],
          "name": "stdout"
        }
      ]
    },
    {
      "metadata": {
        "id": "M8Qn9wguemSc",
        "colab_type": "code",
        "outputId": "9c897235-7dc4-4e2b-cd40-39ed49b985d3",
        "colab": {
          "base_uri": "https://localhost:8080/",
          "height": 54
        }
      },
      "cell_type": "code",
      "source": [
        "test_score5 = model5.evaluate(x_test_32, y_test, verbose = 0)\n",
        "print(\"Test loss:\", test_score5[0])\n",
        "print(\"Test accuracy:\", test_score5[1])"
      ],
      "execution_count": 0,
      "outputs": [
        {
          "output_type": "stream",
          "text": [
            "Test loss: 0.4860495897098297\n",
            "Test accuracy: 0.8478264737817328\n"
          ],
          "name": "stdout"
        }
      ]
    },
    {
      "metadata": {
        "id": "x2NH6c9-gpgN",
        "colab_type": "code",
        "colab": {}
      },
      "cell_type": "code",
      "source": [
        "## Due to memory limitation of Google Colab as well as high dimension of input data required by InceptionV3, we will use reduced dataset on InceptionV3\n",
        "## train test split small dataset\n",
        "def img_resize(data, d):\n",
        "  data = np.asarray([cv2.resize(x, (d,d)) for x in data])\n",
        "  data = data.reshape(-1, d, d, 1)\n",
        "  return data.repeat(3, axis = -1)\n",
        "large, small = train_test_split(yelp, test_size = 0.177941, random_state = 6349)\n",
        "train, test = train_test_split(small, test_size = 0.4, random_state = 5605)\n",
        "valid, test = train_test_split(test, test_size = 0.5, random_state = 2410)\n",
        "X_train = xsplit(train)\n",
        "Y_train = ysplit(train)\n",
        "X_test = xsplit(test)\n",
        "Y_test = ysplit(test)\n",
        "X_valid = xsplit(valid)\n",
        "Y_valid = ysplit(valid)\n",
        "X_train = X_train.reshape(-1,10,10,1)\n",
        "X_valid = X_valid.reshape(-1,10,10,1)\n",
        "X_test = X_test.reshape(-1,10,10,1)\n",
        "x_train_75 = img_resize(X_train, 75)\n",
        "x_valid_75 = img_resize(X_valid, 75)\n",
        "x_test_75 = img_resize(X_test, 75)"
      ],
      "execution_count": 0,
      "outputs": []
    },
    {
      "metadata": {
        "id": "pCgCrpmNfQlf",
        "colab_type": "code",
        "outputId": "be1b9e15-3641-442b-cc25-8846681e03ae",
        "colab": {
          "base_uri": "https://localhost:8080/",
          "height": 330
        }
      },
      "cell_type": "code",
      "source": [
        "## Pre-trained InceptionV3\n",
        "conv_base4 = InceptionV3(weights = \"imagenet\", include_top = False, input_shape = (75, 75, 3))\n",
        "model6 = Sequential()\n",
        "model6.add(conv_base4)\n",
        "model6.add(Flatten())\n",
        "model6.add(Dense(512, activation = \"relu\"))\n",
        "model6.add(Dropout(0.6))\n",
        "model6.add(Dense(num_classes, activation = \"softmax\"))\n",
        "model6.compile(loss = \"categorical_crossentropy\", optimizer = \"adam\", metrics = [\"acc\"])\n",
        "model6.summary()"
      ],
      "execution_count": 0,
      "outputs": [
        {
          "output_type": "stream",
          "text": [
            "_________________________________________________________________\n",
            "Layer (type)                 Output Shape              Param #   \n",
            "=================================================================\n",
            "inception_v3 (Model)         (None, 1, 1, 2048)        21802784  \n",
            "_________________________________________________________________\n",
            "flatten_1 (Flatten)          (None, 2048)              0         \n",
            "_________________________________________________________________\n",
            "dense_1 (Dense)              (None, 512)               1049088   \n",
            "_________________________________________________________________\n",
            "dropout_1 (Dropout)          (None, 512)               0         \n",
            "_________________________________________________________________\n",
            "dense_2 (Dense)              (None, 5)                 2565      \n",
            "=================================================================\n",
            "Total params: 22,854,437\n",
            "Trainable params: 22,820,005\n",
            "Non-trainable params: 34,432\n",
            "_________________________________________________________________\n"
          ],
          "name": "stdout"
        }
      ]
    },
    {
      "metadata": {
        "id": "r0gDT-GWfhXI",
        "colab_type": "code",
        "outputId": "fb5f8c69-8f84-4c27-9cbc-fe4d9f44f299",
        "colab": {
          "base_uri": "https://localhost:8080/",
          "height": 403
        }
      },
      "cell_type": "code",
      "source": [
        "train_model6 = model6.fit(x_train_75, Y_train, batch_size = 256, epochs = 10, validation_data = (x_valid_75, Y_valid))"
      ],
      "execution_count": 0,
      "outputs": [
        {
          "output_type": "stream",
          "text": [
            "Train on 30000 samples, validate on 10000 samples\n",
            "Epoch 1/10\n",
            "30000/30000 [==============================] - 74s 2ms/step - loss: 0.2762 - acc: 0.9045 - val_loss: 0.6184 - val_acc: 0.8118\n",
            "Epoch 2/10\n",
            "30000/30000 [==============================] - 74s 2ms/step - loss: 0.2311 - acc: 0.9193 - val_loss: 0.6663 - val_acc: 0.7927\n",
            "Epoch 3/10\n",
            "30000/30000 [==============================] - 75s 2ms/step - loss: 0.1925 - acc: 0.9336 - val_loss: 0.7027 - val_acc: 0.8092\n",
            "Epoch 4/10\n",
            "30000/30000 [==============================] - 75s 2ms/step - loss: 0.1560 - acc: 0.9473 - val_loss: 0.8069 - val_acc: 0.8179\n",
            "Epoch 5/10\n",
            "30000/30000 [==============================] - 75s 2ms/step - loss: 0.1449 - acc: 0.9516 - val_loss: 0.7887 - val_acc: 0.8152\n",
            "Epoch 6/10\n",
            "30000/30000 [==============================] - 75s 2ms/step - loss: 0.1229 - acc: 0.9584 - val_loss: 0.7750 - val_acc: 0.8168\n",
            "Epoch 7/10\n",
            "30000/30000 [==============================] - 76s 3ms/step - loss: 0.1094 - acc: 0.9632 - val_loss: 0.8954 - val_acc: 0.8038\n",
            "Epoch 8/10\n",
            "30000/30000 [==============================] - 76s 3ms/step - loss: 0.1006 - acc: 0.9673 - val_loss: 0.7707 - val_acc: 0.8184\n",
            "Epoch 9/10\n",
            "30000/30000 [==============================] - 76s 3ms/step - loss: 0.0902 - acc: 0.9702 - val_loss: 0.8023 - val_acc: 0.8095\n",
            "Epoch 10/10\n",
            "30000/30000 [==============================] - 74s 2ms/step - loss: 0.0693 - acc: 0.9770 - val_loss: 0.9234 - val_acc: 0.8173\n"
          ],
          "name": "stdout"
        }
      ]
    },
    {
      "metadata": {
        "id": "z314Melffxxg",
        "colab_type": "code",
        "outputId": "701dfcf9-56df-4751-bbef-a803bdec71d7",
        "colab": {
          "base_uri": "https://localhost:8080/",
          "height": 54
        }
      },
      "cell_type": "code",
      "source": [
        "test_score6 = model6.evaluate(x_test_75, Y_test, verbose = 0)\n",
        "print(\"Test loss:\", test_score6[0])\n",
        "print(\"Test accuracy:\", test_score6[1])"
      ],
      "execution_count": 0,
      "outputs": [
        {
          "output_type": "stream",
          "text": [
            "Test loss: 0.8804917963683605\n",
            "Test accuracy: 0.8161\n"
          ],
          "name": "stdout"
        }
      ]
    },
    {
      "metadata": {
        "id": "2eJymLDP1hAv",
        "colab_type": "code",
        "outputId": "9113f7a8-1002-4e49-97b5-e3ac85e641b4",
        "colab": {
          "base_uri": "https://localhost:8080/",
          "height": 642
        }
      },
      "cell_type": "code",
      "source": [
        "X_train = xsplit(train)\n",
        "Y_train = ysplit(train)\n",
        "X_test = xsplit(test)\n",
        "Y_test = ysplit(test)\n",
        "X_valid = xsplit(valid)\n",
        "Y_valid = ysplit(valid)\n",
        "model7 = Sequential()\n",
        "model7.add(Dense(512, activation = \"relu\", input_shape = (100,)))\n",
        "model7.add(Dropout(0.7))\n",
        "model7.add(Dense(num_classes, activation = \"softmax\"))\n",
        "model7.compile(loss = \"categorical_crossentropy\", optimizer = \"adadelta\", metrics = [\"accuracy\"])\n",
        "model7.summary()\n",
        "train_model7 = model7.fit(X_train, Y_train, epochs = 10, batch_size = 64, verbose = 1, validation_data = (X_valid, Y_valid))"
      ],
      "execution_count": 0,
      "outputs": [
        {
          "output_type": "stream",
          "text": [
            "_________________________________________________________________\n",
            "Layer (type)                 Output Shape              Param #   \n",
            "=================================================================\n",
            "dense_5 (Dense)              (None, 512)               51712     \n",
            "_________________________________________________________________\n",
            "dropout_3 (Dropout)          (None, 512)               0         \n",
            "_________________________________________________________________\n",
            "dense_6 (Dense)              (None, 5)                 2565      \n",
            "=================================================================\n",
            "Total params: 54,277\n",
            "Trainable params: 54,277\n",
            "Non-trainable params: 0\n",
            "_________________________________________________________________\n",
            "Train on 30000 samples, validate on 10000 samples\n",
            "Epoch 1/10\n",
            "30000/30000 [==============================] - 9s 314us/step - loss: 0.6446 - acc: 0.7799 - val_loss: 0.4832 - val_acc: 0.8354\n",
            "Epoch 2/10\n",
            "30000/30000 [==============================] - 4s 147us/step - loss: 0.5081 - acc: 0.8223 - val_loss: 0.4666 - val_acc: 0.8402\n",
            "Epoch 3/10\n",
            "30000/30000 [==============================] - 5s 151us/step - loss: 0.4738 - acc: 0.8332 - val_loss: 0.4618 - val_acc: 0.8435\n",
            "Epoch 4/10\n",
            "30000/30000 [==============================] - 5s 159us/step - loss: 0.4484 - acc: 0.8421 - val_loss: 0.4500 - val_acc: 0.8433\n",
            "Epoch 5/10\n",
            "30000/30000 [==============================] - 4s 149us/step - loss: 0.4367 - acc: 0.8440 - val_loss: 0.4430 - val_acc: 0.8497\n",
            "Epoch 6/10\n",
            "30000/30000 [==============================] - 4s 145us/step - loss: 0.4247 - acc: 0.8488 - val_loss: 0.4443 - val_acc: 0.8510\n",
            "Epoch 7/10\n",
            "30000/30000 [==============================] - 5s 150us/step - loss: 0.4182 - acc: 0.8520 - val_loss: 0.4417 - val_acc: 0.8513\n",
            "Epoch 8/10\n",
            "30000/30000 [==============================] - 5s 150us/step - loss: 0.4047 - acc: 0.8543 - val_loss: 0.4366 - val_acc: 0.8534\n",
            "Epoch 9/10\n",
            "30000/30000 [==============================] - 4s 147us/step - loss: 0.4015 - acc: 0.8557 - val_loss: 0.4338 - val_acc: 0.8551\n",
            "Epoch 10/10\n",
            "30000/30000 [==============================] - 5s 151us/step - loss: 0.3965 - acc: 0.8562 - val_loss: 0.4367 - val_acc: 0.8522\n"
          ],
          "name": "stdout"
        }
      ]
    },
    {
      "metadata": {
        "id": "jlHtETEl54ch",
        "colab_type": "code",
        "outputId": "a9cf7091-9648-41f7-c6c0-39ab6477079b",
        "colab": {
          "base_uri": "https://localhost:8080/",
          "height": 54
        }
      },
      "cell_type": "code",
      "source": [
        "test_score7 = model7.evaluate(X_test, Y_test, verbose = 0)\n",
        "print(\"Test loss:\", test_score7[0])\n",
        "print(\"Test accuracy:\", test_score7[1])"
      ],
      "execution_count": 0,
      "outputs": [
        {
          "output_type": "stream",
          "text": [
            "Test loss: 0.4273010034799576\n",
            "Test accuracy: 0.8524\n"
          ],
          "name": "stdout"
        }
      ]
    },
    {
      "metadata": {
        "id": "iK6SeWJ26mpU",
        "colab_type": "code",
        "colab": {}
      },
      "cell_type": "code",
      "source": [
        ""
      ],
      "execution_count": 0,
      "outputs": []
    }
  ]
}